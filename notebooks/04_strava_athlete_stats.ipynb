{
 "cells": [
  {
   "cell_type": "code",
   "execution_count": 2,
   "id": "cd00dd2b",
   "metadata": {},
   "outputs": [],
   "source": [
    "import sys\n",
    "import os\n",
    "import requests\n",
    "\n",
    "PROJECT_ROOT = os.path.abspath(os.path.join(os.getcwd(), '..'))\n",
    "if PROJECT_ROOT not in sys.path:\n",
    "    sys.path.append(PROJECT_ROOT)\n",
    "\n",
    "from src.ingestion.auth import strava_auth"
   ]
  },
  {
   "cell_type": "code",
   "execution_count": null,
   "id": "57cc2119",
   "metadata": {},
   "outputs": [],
   "source": [
    "# TODO: Add short strava docs\n",
    "# https://developers.strava.com/docs/reference/#api-Athletes"
   ]
  },
  {
   "cell_type": "code",
   "execution_count": null,
   "id": "94bf6fce",
   "metadata": {},
   "outputs": [
    {
     "name": "stdout",
     "output_type": "stream",
     "text": [
      "137549 1184ee4b53c17a4caec26f1fe6b1f0169d1136a4 c7b0516c8801fde1965ea36e40428b81941ba448\n",
      "Refreshing Strava access token...\n",
      "Successfully refreshed access token.\n"
     ]
    }
   ],
   "source": [
    "athlete_url = 'https://www.strava.com/api/v3/athlete'\n",
    "access_token = strava_auth.get_access_token()\n",
    "headers = {'Authorization': f'Bearer {access_token}'}"
   ]
  },
  {
   "cell_type": "markdown",
   "id": "c0b5e6ec",
   "metadata": {},
   "source": [
    "# General athlete information"
   ]
  },
  {
   "cell_type": "code",
   "execution_count": 5,
   "id": "334df5c9",
   "metadata": {},
   "outputs": [
    {
     "name": "stdout",
     "output_type": "stream",
     "text": [
      "OK 200\n"
     ]
    }
   ],
   "source": [
    "import requests, datetime as dt\n",
    "\n",
    "def get_debug(url, headers, **kwargs):\n",
    "    try:\n",
    "        r = requests.get(url, headers=headers, timeout=10, **kwargs)\n",
    "        r.raise_for_status()\n",
    "        print(\"OK\", r.status_code)\n",
    "        return r\n",
    "    except requests.HTTPError as e:\n",
    "        r = e.response\n",
    "        hdrs = {k: r.headers.get(k) for k in [\n",
    "            \"X-RateLimit-Limit\", \"X-RateLimit-Usage\",\n",
    "            \"X-ReadRateLimit-Limit\", \"X-ReadRateLimit-Usage\",\n",
    "            \"Retry-After\", \"Date\"\n",
    "        ]}\n",
    "        print(\"HTTPError:\", r.status_code)\n",
    "        print(\"Headers:\", hdrs)\n",
    "        print(\"Body (first 300):\", r.text[:300])\n",
    "        raise\n",
    "\n",
    "athlete_url = \"https://www.strava.com/api/v3/athlete\"\n",
    "resp = get_debug(athlete_url, headers=headers)\n",
    "data = resp.json()\n"
   ]
  },
  {
   "cell_type": "code",
   "execution_count": 6,
   "id": "5bf0155a",
   "metadata": {},
   "outputs": [
    {
     "data": {
      "text/plain": [
       "{'id': 133094316,\n",
       " 'username': None,\n",
       " 'resource_state': 2,\n",
       " 'firstname': 'Xaver',\n",
       " 'lastname': 'Heuser',\n",
       " 'bio': '',\n",
       " 'city': 'Troisdorf',\n",
       " 'state': 'Nordrhein-Westfalen',\n",
       " 'country': 'Germany',\n",
       " 'sex': 'M',\n",
       " 'premium': False,\n",
       " 'summit': False,\n",
       " 'created_at': '2024-03-10T13:27:59Z',\n",
       " 'updated_at': '2025-08-01T13:07:19Z',\n",
       " 'badge_type_id': 0,\n",
       " 'weight': None,\n",
       " 'profile_medium': 'https://dgalywyr863hv.cloudfront.net/pictures/athletes/133094316/33608972/1/medium.jpg',\n",
       " 'profile': 'https://dgalywyr863hv.cloudfront.net/pictures/athletes/133094316/33608972/1/large.jpg',\n",
       " 'friend': None,\n",
       " 'follower': None}"
      ]
     },
     "execution_count": 6,
     "metadata": {},
     "output_type": "execute_result"
    }
   ],
   "source": [
    "data"
   ]
  },
  {
   "cell_type": "code",
   "execution_count": 7,
   "id": "36715fee",
   "metadata": {},
   "outputs": [
    {
     "name": "stdout",
     "output_type": "stream",
     "text": [
      "Athlete ID: 133094316\n"
     ]
    }
   ],
   "source": [
    "athlete_id = data['id']\n",
    "print(f\"Athlete ID: {athlete_id}\")"
   ]
  },
  {
   "cell_type": "markdown",
   "id": "52c940a5",
   "metadata": {},
   "source": [
    "# Athlete stats"
   ]
  },
  {
   "cell_type": "code",
   "execution_count": 8,
   "id": "0691f567",
   "metadata": {},
   "outputs": [],
   "source": [
    "athlete_stats_url = f'https://www.strava.com/api/v3/athletes/{athlete_id}/stats'\n",
    "r = requests.get(athlete_stats_url, headers=headers, timeout=10)\n",
    "r.raise_for_status()"
   ]
  },
  {
   "cell_type": "code",
   "execution_count": 9,
   "id": "12475506",
   "metadata": {},
   "outputs": [
    {
     "data": {
      "text/plain": [
       "{'biggest_ride_distance': 100376.0,\n",
       " 'biggest_climb_elevation_gain': 284.2,\n",
       " 'recent_ride_totals': {'count': 3,\n",
       "  'distance': 57342.200000000004,\n",
       "  'moving_time': 7987,\n",
       "  'elapsed_time': 8110,\n",
       "  'elevation_gain': 491.0,\n",
       "  'achievement_count': 0},\n",
       " 'all_ride_totals': {'count': 85,\n",
       "  'distance': 2048763.2999999993,\n",
       "  'moving_time': 312603,\n",
       "  'elapsed_time': 330536,\n",
       "  'elevation_gain': 17977.3},\n",
       " 'recent_run_totals': {'count': 18,\n",
       "  'distance': 194724.3,\n",
       "  'moving_time': 60273,\n",
       "  'elapsed_time': 60696,\n",
       "  'elevation_gain': 1296.0,\n",
       "  'achievement_count': 0},\n",
       " 'all_run_totals': {'count': 184,\n",
       "  'distance': 1803229.1000000003,\n",
       "  'moving_time': 550564,\n",
       "  'elapsed_time': 555842,\n",
       "  'elevation_gain': 12858.2},\n",
       " 'recent_swim_totals': {'count': 0,\n",
       "  'distance': 0,\n",
       "  'moving_time': 0,\n",
       "  'elapsed_time': 0,\n",
       "  'elevation_gain': 0,\n",
       "  'achievement_count': 0},\n",
       " 'all_swim_totals': {'count': 6,\n",
       "  'distance': 3017.5,\n",
       "  'moving_time': 3462,\n",
       "  'elapsed_time': 7108,\n",
       "  'elevation_gain': 0.0},\n",
       " 'ytd_ride_totals': {'count': 77,\n",
       "  'distance': 1930280,\n",
       "  'moving_time': 292453.0,\n",
       "  'elapsed_time': 309075.0,\n",
       "  'elevation_gain': 17164.0},\n",
       " 'ytd_run_totals': {'count': 171,\n",
       "  'distance': 1705207,\n",
       "  'moving_time': 520313.0,\n",
       "  'elapsed_time': 525370.0,\n",
       "  'elevation_gain': 12075.0},\n",
       " 'ytd_swim_totals': {'count': 6,\n",
       "  'distance': 3018,\n",
       "  'moving_time': 3462.0,\n",
       "  'elapsed_time': 7108.0,\n",
       "  'elevation_gain': 0.0}}"
      ]
     },
     "execution_count": 9,
     "metadata": {},
     "output_type": "execute_result"
    }
   ],
   "source": [
    "athlete_stats = r.json()\n",
    "athlete_stats"
   ]
  },
  {
   "cell_type": "markdown",
   "id": "63186378",
   "metadata": {},
   "source": [
    "# Zones and Clubs"
   ]
  },
  {
   "cell_type": "code",
   "execution_count": 17,
   "id": "c27d4cfb",
   "metadata": {},
   "outputs": [],
   "source": [
    "athlete_zones_url = f'https://www.strava.com/api/v3/athlete/clubs'\n",
    "r = requests.get(athlete_zones_url, headers=headers, timeout=10)\n",
    "r.raise_for_status()"
   ]
  },
  {
   "cell_type": "code",
   "execution_count": 18,
   "id": "d0c0aaea",
   "metadata": {},
   "outputs": [
    {
     "data": {
      "text/plain": [
       "[]"
      ]
     },
     "execution_count": 18,
     "metadata": {},
     "output_type": "execute_result"
    }
   ],
   "source": [
    "zones = r.json()\n",
    "zones"
   ]
  },
  {
   "cell_type": "markdown",
   "id": "be583989",
   "metadata": {},
   "source": [
    "# Gears"
   ]
  },
  {
   "cell_type": "code",
   "execution_count": null,
   "id": "caaf92a7",
   "metadata": {},
   "outputs": [],
   "source": []
  },
  {
   "cell_type": "code",
   "execution_count": null,
   "id": "8793f509",
   "metadata": {},
   "outputs": [],
   "source": []
  }
 ],
 "metadata": {
  "kernelspec": {
   "display_name": ".venv",
   "language": "python",
   "name": "python3"
  },
  "language_info": {
   "codemirror_mode": {
    "name": "ipython",
    "version": 3
   },
   "file_extension": ".py",
   "mimetype": "text/x-python",
   "name": "python",
   "nbconvert_exporter": "python",
   "pygments_lexer": "ipython3",
   "version": "3.12.9"
  }
 },
 "nbformat": 4,
 "nbformat_minor": 5
}

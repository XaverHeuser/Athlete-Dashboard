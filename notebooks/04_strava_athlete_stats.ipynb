{
 "cells": [
  {
   "cell_type": "code",
   "execution_count": null,
   "id": "cd00dd2b",
   "metadata": {},
   "outputs": [],
   "source": [
    "import os\n",
    "import sys\n",
    "\n",
    "import requests\n",
    "\n",
    "PROJECT_ROOT = os.path.abspath(os.path.join(os.getcwd(), '..'))\n",
    "if PROJECT_ROOT not in sys.path:\n",
    "    sys.path.append(PROJECT_ROOT)\n",
    "\n",
    "from src.ingestion.auth import strava_auth  # noqa: E402"
   ]
  },
  {
   "cell_type": "code",
   "execution_count": null,
   "id": "94bf6fce",
   "metadata": {},
   "outputs": [],
   "source": [
    "athlete_url = 'https://www.strava.com/api/v3/athlete'\n",
    "access_token = strava_auth.get_access_token()\n",
    "headers = {'Authorization': f'Bearer {access_token}'}"
   ]
  },
  {
   "cell_type": "markdown",
   "id": "c0b5e6ec",
   "metadata": {},
   "source": [
    "# General athlete information"
   ]
  },
  {
   "cell_type": "code",
   "execution_count": null,
   "id": "334df5c9",
   "metadata": {},
   "outputs": [],
   "source": [
    "def get_debug(url, headers, **kwargs):\n",
    "    try:\n",
    "        r = requests.get(url, headers=headers, timeout=10, **kwargs)\n",
    "        r.raise_for_status()\n",
    "        print('OK', r.status_code)\n",
    "        return r\n",
    "    except requests.HTTPError as e:\n",
    "        r = e.response\n",
    "        hdrs = {\n",
    "            k: r.headers.get(k)\n",
    "            for k in [\n",
    "                'X-RateLimit-Limit',\n",
    "                'X-RateLimit-Usage',\n",
    "                'X-ReadRateLimit-Limit',\n",
    "                'X-ReadRateLimit-Usage',\n",
    "                'Retry-After',\n",
    "                'Date',\n",
    "            ]\n",
    "        }\n",
    "        print('HTTPError:', r.status_code)\n",
    "        print('Headers:', hdrs)\n",
    "        print('Body (first 300):', r.text[:300])\n",
    "        raise\n",
    "\n",
    "\n",
    "athlete_url = 'https://www.strava.com/api/v3/athlete'\n",
    "resp = get_debug(athlete_url, headers=headers)\n",
    "data = resp.json()"
   ]
  },
  {
   "cell_type": "code",
   "execution_count": null,
   "id": "5bf0155a",
   "metadata": {},
   "outputs": [],
   "source": [
    "data"
   ]
  },
  {
   "cell_type": "code",
   "execution_count": null,
   "id": "36715fee",
   "metadata": {},
   "outputs": [],
   "source": [
    "athlete_id = data['id']\n",
    "print(f'Athlete ID: {athlete_id}')"
   ]
  },
  {
   "cell_type": "markdown",
   "id": "52c940a5",
   "metadata": {},
   "source": [
    "# Athlete stats"
   ]
  },
  {
   "cell_type": "code",
   "execution_count": null,
   "id": "0691f567",
   "metadata": {},
   "outputs": [],
   "source": [
    "athlete_stats_url = f'https://www.strava.com/api/v3/athletes/{athlete_id}/stats'\n",
    "r = requests.get(athlete_stats_url, headers=headers, timeout=10)\n",
    "r.raise_for_status()"
   ]
  },
  {
   "cell_type": "code",
   "execution_count": null,
   "id": "12475506",
   "metadata": {},
   "outputs": [],
   "source": [
    "athlete_stats = r.json()\n",
    "athlete_stats"
   ]
  },
  {
   "cell_type": "markdown",
   "id": "be583989",
   "metadata": {},
   "source": [
    "# Gears\n",
    "\n",
    "- To get the id of a gear one have to check it manually or iterate over all activities and create a list\n",
    "- Since they don't change that often, it makes sense to manually create a list with all gear ids"
   ]
  },
  {
   "cell_type": "code",
   "execution_count": null,
   "id": "36449d9f",
   "metadata": {},
   "outputs": [],
   "source": [
    "gear_id = 'g20984891'\n",
    "gear_2 = 'b16370167'"
   ]
  },
  {
   "cell_type": "code",
   "execution_count": null,
   "id": "caaf92a7",
   "metadata": {},
   "outputs": [],
   "source": [
    "gear_url = f'https://www.strava.com/api/v3/gear/{gear_2}'\n",
    "r = requests.get(gear_url, headers=headers, timeout=10)\n",
    "gear = r.json()\n",
    "gear"
   ]
  },
  {
   "cell_type": "markdown",
   "id": "658e171f",
   "metadata": {},
   "source": [
    "# Activity Details"
   ]
  },
  {
   "cell_type": "markdown",
   "id": "61f255a3",
   "metadata": {},
   "source": [
    "## Streams"
   ]
  },
  {
   "cell_type": "code",
   "execution_count": null,
   "id": "337bb486",
   "metadata": {},
   "outputs": [],
   "source": [
    "activity_id = '16222086377'"
   ]
  },
  {
   "cell_type": "code",
   "execution_count": null,
   "id": "9d2da7a4",
   "metadata": {},
   "outputs": [],
   "source": [
    "stream_url = f'https://www.strava.com/api/v3/activities/{activity_id}/streams?heartrate'\n",
    "r = requests.get(stream_url, headers=headers, timeout=10)\n",
    "stream = r.json()"
   ]
  },
  {
   "cell_type": "code",
   "execution_count": null,
   "id": "7c8c88d7",
   "metadata": {},
   "outputs": [],
   "source": [
    "import requests\n",
    "\n",
    "activity_id = '16222086377'\n",
    "stream_url = f'https://www.strava.com/api/v3/activities/{activity_id}/streams'\n",
    "\n",
    "params = {\n",
    "    'keys': 'time,heartrate,altitude,velocity_smooth',  # or use 'types'\n",
    "    'key_by_type': 'true',\n",
    "}\n",
    "\n",
    "r = requests.get(stream_url, headers=headers, params=params, timeout=10)\n",
    "r.raise_for_status()\n",
    "stream = r.json()\n",
    "\n",
    "print(\n",
    "    stream.keys()\n",
    ")  # e.g. dict_keys(['time', 'heartrate', 'altitude', 'velocity_smooth'])"
   ]
  },
  {
   "cell_type": "code",
   "execution_count": null,
   "id": "1824bcdc",
   "metadata": {},
   "outputs": [],
   "source": [
    "import pandas as pd\n",
    "\n",
    "print(pd.__version__)"
   ]
  },
  {
   "cell_type": "code",
   "execution_count": null,
   "id": "36e1c741",
   "metadata": {},
   "outputs": [],
   "source": [
    "import matplotlib.pyplot as plt\n",
    "import pandas as pd\n",
    "import requests\n",
    "\n",
    "stream_url = f'https://www.strava.com/api/v3/activities/{activity_id}/streams'\n",
    "\n",
    "params = {'keys': 'time,heartrate', 'key_by_type': 'true'}\n",
    "\n",
    "r = requests.get(stream_url, headers=headers, params=params, timeout=10)\n",
    "r.raise_for_status()\n",
    "stream = r.json()\n",
    "\n",
    "# --- Convert to DataFrame ---\n",
    "df = pd.DataFrame({\n",
    "    'time_s': stream['time']['data'],\n",
    "    'heart_rate': stream['heartrate']['data'],\n",
    "})\n",
    "\n",
    "# Optional: convert seconds to minutes\n",
    "df['time_min'] = df['time_s'] / 60\n",
    "\n",
    "# --- Plot ---\n",
    "plt.figure(figsize=(10, 5))\n",
    "plt.plot(df['time_min'], df['heart_rate'], linewidth=1.5)\n",
    "plt.title(f'Heart Rate Stream for Activity {activity_id}')\n",
    "plt.xlabel('Time (minutes)')\n",
    "plt.ylabel('Heart Rate (bpm)')\n",
    "plt.grid(True)\n",
    "plt.tight_layout()\n",
    "plt.show()"
   ]
  },
  {
   "cell_type": "markdown",
   "id": "2bcb992f",
   "metadata": {},
   "source": [
    "## Comments"
   ]
  },
  {
   "cell_type": "code",
   "execution_count": null,
   "id": "9db37f82",
   "metadata": {},
   "outputs": [],
   "source": [
    "comment_url = f'https://www.strava.com/api/v3/activities/{activity_id}/comments'\n",
    "r = requests.get(comment_url, headers=headers, timeout=10)\n",
    "r.raise_for_status()\n",
    "comments = r.json()\n",
    "comments"
   ]
  },
  {
   "cell_type": "markdown",
   "id": "f583efa0",
   "metadata": {},
   "source": [
    "## Kudos"
   ]
  },
  {
   "cell_type": "code",
   "execution_count": null,
   "id": "e4272919",
   "metadata": {},
   "outputs": [],
   "source": [
    "kudos_url = f'https://www.strava.com/api/v3/activities/{activity_id}/kudos'\n",
    "r = requests.get(kudos_url, headers=headers, timeout=10)\n",
    "r.raise_for_status()\n",
    "kudos = r.json()\n",
    "kudos"
   ]
  },
  {
   "cell_type": "markdown",
   "id": "ab04ced4",
   "metadata": {},
   "source": [
    "## Laps"
   ]
  },
  {
   "cell_type": "code",
   "execution_count": null,
   "id": "fb14a78a",
   "metadata": {},
   "outputs": [],
   "source": [
    "laps_url = f'https://www.strava.com/api/v3/activities/{activity_id}/laps'\n",
    "r = requests.get(laps_url, headers=headers, timeout=10)\n",
    "r.raise_for_status()\n",
    "laps = r.json()\n",
    "laps"
   ]
  },
  {
   "cell_type": "markdown",
   "id": "fc8c9139",
   "metadata": {},
   "source": [
    "## Zones"
   ]
  },
  {
   "cell_type": "code",
   "execution_count": null,
   "id": "c2ed323c",
   "metadata": {},
   "outputs": [],
   "source": [
    "zones_url = f'https://www.strava.com/api/v3/activities/{activity_id}/zones'\n",
    "r = requests.get(zones_url, headers=headers, timeout=10)\n",
    "r.raise_for_status()\n",
    "zones = r.json()\n",
    "zones"
   ]
  }
 ],
 "metadata": {
  "kernelspec": {
   "display_name": ".venv",
   "language": "python",
   "name": "python3"
  },
  "language_info": {
   "codemirror_mode": {
    "name": "ipython",
    "version": 3
   },
   "file_extension": ".py",
   "mimetype": "text/x-python",
   "name": "python",
   "nbconvert_exporter": "python",
   "pygments_lexer": "ipython3",
   "version": "3.12.9"
  }
 },
 "nbformat": 4,
 "nbformat_minor": 5
}

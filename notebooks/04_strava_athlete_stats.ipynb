{
 "cells": [
  {
   "cell_type": "code",
   "execution_count": 10,
   "id": "cd00dd2b",
   "metadata": {},
   "outputs": [],
   "source": [
    "import os\n",
    "import sys\n",
    "\n",
    "import pandas as pd\n",
    "import requests\n",
    "\n",
    "PROJECT_ROOT = os.path.abspath(os.path.join(os.getcwd(), '..'))\n",
    "if PROJECT_ROOT not in sys.path:\n",
    "    sys.path.append(PROJECT_ROOT)\n",
    "\n",
    "from src.ingestion.auth import strava_auth  # noqa: E402"
   ]
  },
  {
   "cell_type": "code",
   "execution_count": 2,
   "id": "94bf6fce",
   "metadata": {},
   "outputs": [
    {
     "name": "stdout",
     "output_type": "stream",
     "text": [
      "137549 1184ee4b53c17a4caec26f1fe6b1f0169d1136a4 c7b0516c8801fde1965ea36e40428b81941ba448\n",
      "Refreshing Strava access token...\n",
      "Successfully refreshed access token.\n"
     ]
    }
   ],
   "source": [
    "athlete_url = 'https://www.strava.com/api/v3/athlete'\n",
    "access_token = strava_auth.get_access_token()\n",
    "headers = {'Authorization': f'Bearer {access_token}'}"
   ]
  },
  {
   "cell_type": "markdown",
   "id": "c0b5e6ec",
   "metadata": {},
   "source": [
    "# General athlete information"
   ]
  },
  {
   "cell_type": "code",
   "execution_count": 3,
   "id": "9eb52623",
   "metadata": {},
   "outputs": [
    {
     "data": {
      "text/plain": [
       "{'id': 133094316,\n",
       " 'username': None,\n",
       " 'resource_state': 2,\n",
       " 'firstname': 'Xaver',\n",
       " 'lastname': 'Heuser',\n",
       " 'bio': '',\n",
       " 'city': 'Troisdorf',\n",
       " 'state': 'Nordrhein-Westfalen',\n",
       " 'country': 'Germany',\n",
       " 'sex': 'M',\n",
       " 'premium': False,\n",
       " 'summit': False,\n",
       " 'created_at': '2024-03-10T13:27:59Z',\n",
       " 'updated_at': '2025-08-01T13:07:19Z',\n",
       " 'badge_type_id': 0,\n",
       " 'weight': None,\n",
       " 'profile_medium': 'https://dgalywyr863hv.cloudfront.net/pictures/athletes/133094316/33608972/1/medium.jpg',\n",
       " 'profile': 'https://dgalywyr863hv.cloudfront.net/pictures/athletes/133094316/33608972/1/large.jpg',\n",
       " 'friend': None,\n",
       " 'follower': None}"
      ]
     },
     "execution_count": 3,
     "metadata": {},
     "output_type": "execute_result"
    }
   ],
   "source": [
    "athlete_url = 'https://www.strava.com/api/v3/athlete'\n",
    "response = requests.get(athlete_url, headers=headers, timeout=10)\n",
    "response.raise_for_status()\n",
    "data = response.json()\n",
    "data"
   ]
  },
  {
   "cell_type": "code",
   "execution_count": 4,
   "id": "5bf0155a",
   "metadata": {},
   "outputs": [
    {
     "data": {
      "text/plain": [
       "{'id': 133094316,\n",
       " 'username': None,\n",
       " 'resource_state': 2,\n",
       " 'firstname': 'Xaver',\n",
       " 'lastname': 'Heuser',\n",
       " 'bio': '',\n",
       " 'city': 'Troisdorf',\n",
       " 'state': 'Nordrhein-Westfalen',\n",
       " 'country': 'Germany',\n",
       " 'sex': 'M',\n",
       " 'premium': False,\n",
       " 'summit': False,\n",
       " 'created_at': '2024-03-10T13:27:59Z',\n",
       " 'updated_at': '2025-08-01T13:07:19Z',\n",
       " 'badge_type_id': 0,\n",
       " 'weight': None,\n",
       " 'profile_medium': 'https://dgalywyr863hv.cloudfront.net/pictures/athletes/133094316/33608972/1/medium.jpg',\n",
       " 'profile': 'https://dgalywyr863hv.cloudfront.net/pictures/athletes/133094316/33608972/1/large.jpg',\n",
       " 'friend': None,\n",
       " 'follower': None}"
      ]
     },
     "execution_count": 4,
     "metadata": {},
     "output_type": "execute_result"
    }
   ],
   "source": [
    "data"
   ]
  },
  {
   "cell_type": "code",
   "execution_count": 5,
   "id": "36715fee",
   "metadata": {},
   "outputs": [
    {
     "name": "stdout",
     "output_type": "stream",
     "text": [
      "Athlete ID: 133094316\n"
     ]
    }
   ],
   "source": [
    "athlete_id = data['id']\n",
    "print(f'Athlete ID: {athlete_id}')"
   ]
  },
  {
   "cell_type": "code",
   "execution_count": 7,
   "id": "8b798c35",
   "metadata": {},
   "outputs": [
    {
     "data": {
      "text/plain": [
       "StravaAthleteInfo(id=133094316, username=None, resource_state=2, firstname='Xaver', lastname='Heuser', bio='', city='Troisdorf', state='Nordrhein-Westfalen', country='Germany', sex='M', premium=False, summit=False, created_at='2024-03-10T13:27:59Z', updated_at='2025-08-01T13:07:19Z', badge_type_id=0, weight=None, profile_medium='https://dgalywyr863hv.cloudfront.net/pictures/athletes/133094316/33608972/1/medium.jpg', profile='https://dgalywyr863hv.cloudfront.net/pictures/athletes/133094316/33608972/1/large.jpg', friend=None, follower=None)"
      ]
     },
     "execution_count": 7,
     "metadata": {},
     "output_type": "execute_result"
    }
   ],
   "source": [
    "# Method using the strava extractor class\n",
    "from src.ingestion.extractors.strava_extractor import StravaExtractor\n",
    "\n",
    "extractor = StravaExtractor(access_token)\n",
    "athlete_info = extractor.fetch_athlete_info()\n",
    "athlete_info"
   ]
  },
  {
   "cell_type": "code",
   "execution_count": 9,
   "id": "c109d1f8",
   "metadata": {},
   "outputs": [
    {
     "data": {
      "text/plain": [
       "133094316"
      ]
     },
     "execution_count": 9,
     "metadata": {},
     "output_type": "execute_result"
    }
   ],
   "source": [
    "athlete_info.id"
   ]
  },
  {
   "cell_type": "code",
   "execution_count": 11,
   "id": "d2998265",
   "metadata": {},
   "outputs": [
    {
     "data": {
      "text/html": [
       "<div>\n",
       "<style scoped>\n",
       "    .dataframe tbody tr th:only-of-type {\n",
       "        vertical-align: middle;\n",
       "    }\n",
       "\n",
       "    .dataframe tbody tr th {\n",
       "        vertical-align: top;\n",
       "    }\n",
       "\n",
       "    .dataframe thead th {\n",
       "        text-align: right;\n",
       "    }\n",
       "</style>\n",
       "<table border=\"1\" class=\"dataframe\">\n",
       "  <thead>\n",
       "    <tr style=\"text-align: right;\">\n",
       "      <th></th>\n",
       "      <th>id</th>\n",
       "      <th>username</th>\n",
       "      <th>resource_state</th>\n",
       "      <th>firstname</th>\n",
       "      <th>lastname</th>\n",
       "      <th>bio</th>\n",
       "      <th>city</th>\n",
       "      <th>state</th>\n",
       "      <th>country</th>\n",
       "      <th>sex</th>\n",
       "      <th>premium</th>\n",
       "      <th>summit</th>\n",
       "      <th>created_at</th>\n",
       "      <th>updated_at</th>\n",
       "      <th>badge_type_id</th>\n",
       "      <th>weight</th>\n",
       "      <th>profile_medium</th>\n",
       "      <th>profile</th>\n",
       "      <th>friend</th>\n",
       "      <th>follower</th>\n",
       "    </tr>\n",
       "  </thead>\n",
       "  <tbody>\n",
       "    <tr>\n",
       "      <th>0</th>\n",
       "      <td>133094316</td>\n",
       "      <td>None</td>\n",
       "      <td>2</td>\n",
       "      <td>Xaver</td>\n",
       "      <td>Heuser</td>\n",
       "      <td></td>\n",
       "      <td>Troisdorf</td>\n",
       "      <td>Nordrhein-Westfalen</td>\n",
       "      <td>Germany</td>\n",
       "      <td>M</td>\n",
       "      <td>False</td>\n",
       "      <td>False</td>\n",
       "      <td>2024-03-10T13:27:59Z</td>\n",
       "      <td>2025-08-01T13:07:19Z</td>\n",
       "      <td>0</td>\n",
       "      <td>None</td>\n",
       "      <td>https://dgalywyr863hv.cloudfront.net/pictures/...</td>\n",
       "      <td>https://dgalywyr863hv.cloudfront.net/pictures/...</td>\n",
       "      <td>None</td>\n",
       "      <td>None</td>\n",
       "    </tr>\n",
       "  </tbody>\n",
       "</table>\n",
       "</div>"
      ],
      "text/plain": [
       "          id username  resource_state firstname lastname bio       city  \\\n",
       "0  133094316     None               2     Xaver   Heuser      Troisdorf   \n",
       "\n",
       "                 state  country sex  premium  summit            created_at  \\\n",
       "0  Nordrhein-Westfalen  Germany   M    False   False  2024-03-10T13:27:59Z   \n",
       "\n",
       "             updated_at  badge_type_id weight  \\\n",
       "0  2025-08-01T13:07:19Z              0   None   \n",
       "\n",
       "                                      profile_medium  \\\n",
       "0  https://dgalywyr863hv.cloudfront.net/pictures/...   \n",
       "\n",
       "                                             profile friend follower  \n",
       "0  https://dgalywyr863hv.cloudfront.net/pictures/...   None     None  "
      ]
     },
     "execution_count": 11,
     "metadata": {},
     "output_type": "execute_result"
    }
   ],
   "source": [
    "df_athlete = pd.DataFrame([athlete_info.model_dump()])\n",
    "df_athlete"
   ]
  },
  {
   "cell_type": "markdown",
   "id": "52c940a5",
   "metadata": {},
   "source": [
    "# Athlete stats"
   ]
  },
  {
   "cell_type": "code",
   "execution_count": null,
   "id": "0691f567",
   "metadata": {},
   "outputs": [],
   "source": [
    "athlete_stats_url = f'https://www.strava.com/api/v3/athletes/{athlete_id}/stats'\n",
    "r = requests.get(athlete_stats_url, headers=headers, timeout=10)\n",
    "r.raise_for_status()"
   ]
  },
  {
   "cell_type": "code",
   "execution_count": null,
   "id": "12475506",
   "metadata": {},
   "outputs": [],
   "source": [
    "athlete_stats = r.json()\n",
    "athlete_stats"
   ]
  },
  {
   "cell_type": "markdown",
   "id": "be583989",
   "metadata": {},
   "source": [
    "# Gears\n",
    "\n",
    "- To get the id of a gear one have to check it manually or iterate over all activities and create a list\n",
    "- Since they don't change that often, it makes sense to manually create a list with all gear ids"
   ]
  },
  {
   "cell_type": "code",
   "execution_count": null,
   "id": "36449d9f",
   "metadata": {},
   "outputs": [],
   "source": [
    "gear_id = 'g20984891'\n",
    "gear_2 = 'b16370167'"
   ]
  },
  {
   "cell_type": "code",
   "execution_count": null,
   "id": "caaf92a7",
   "metadata": {},
   "outputs": [
    {
     "data": {
      "text/plain": [
       "{'id': 'b16370167',\n",
       " 'primary': False,\n",
       " 'name': 'Endurace CF 6',\n",
       " 'nickname': 'Endurace CF 6',\n",
       " 'resource_state': 3,\n",
       " 'retired': False,\n",
       " 'distance': 1001551,\n",
       " 'converted_distance': 1001.6,\n",
       " 'brand_name': 'Canyon',\n",
       " 'model_name': 'Endurace CF 6',\n",
       " 'frame_type': 3,\n",
       " 'description': None,\n",
       " 'weight': 9.7}"
      ]
     },
     "execution_count": 7,
     "metadata": {},
     "output_type": "execute_result"
    }
   ],
   "source": [
    "gear_url = f'https://www.strava.com/api/v3/gear/{gear_2}'\n",
    "r = requests.get(gear_url, headers=headers, timeout=10)\n",
    "gear = r.json()\n",
    "gear"
   ]
  },
  {
   "cell_type": "markdown",
   "id": "658e171f",
   "metadata": {},
   "source": [
    "# Activity Details"
   ]
  },
  {
   "cell_type": "markdown",
   "id": "61f255a3",
   "metadata": {},
   "source": [
    "## Streams"
   ]
  },
  {
   "cell_type": "code",
   "execution_count": null,
   "id": "337bb486",
   "metadata": {},
   "outputs": [],
   "source": [
    "activity_id = '16222086377'"
   ]
  },
  {
   "cell_type": "code",
   "execution_count": null,
   "id": "9d2da7a4",
   "metadata": {},
   "outputs": [],
   "source": [
    "stream_url = f'https://www.strava.com/api/v3/activities/{activity_id}/streams?heartrate'\n",
    "r = requests.get(stream_url, headers=headers, timeout=10)\n",
    "stream = r.json()"
   ]
  },
  {
   "cell_type": "code",
   "execution_count": null,
   "id": "7c8c88d7",
   "metadata": {},
   "outputs": [],
   "source": [
    "import requests\n",
    "\n",
    "activity_id = '16222086377'\n",
    "stream_url = f'https://www.strava.com/api/v3/activities/{activity_id}/streams'\n",
    "\n",
    "params = {\n",
    "    'keys': 'time,heartrate,altitude,velocity_smooth',  # or use 'types'\n",
    "    'key_by_type': 'true',\n",
    "}\n",
    "\n",
    "r = requests.get(stream_url, headers=headers, params=params, timeout=10)\n",
    "r.raise_for_status()\n",
    "stream = r.json()\n",
    "\n",
    "print(\n",
    "    stream.keys()\n",
    ")  # e.g. dict_keys(['time', 'heartrate', 'altitude', 'velocity_smooth'])"
   ]
  },
  {
   "cell_type": "code",
   "execution_count": null,
   "id": "1824bcdc",
   "metadata": {},
   "outputs": [],
   "source": [
    "import pandas as pd\n",
    "\n",
    "print(pd.__version__)"
   ]
  },
  {
   "cell_type": "code",
   "execution_count": null,
   "id": "36e1c741",
   "metadata": {},
   "outputs": [],
   "source": [
    "import matplotlib.pyplot as plt\n",
    "import pandas as pd\n",
    "import requests\n",
    "\n",
    "stream_url = f'https://www.strava.com/api/v3/activities/{activity_id}/streams'\n",
    "\n",
    "params = {'keys': 'time,heartrate', 'key_by_type': 'true'}\n",
    "\n",
    "r = requests.get(stream_url, headers=headers, params=params, timeout=10)\n",
    "r.raise_for_status()\n",
    "stream = r.json()\n",
    "\n",
    "# --- Convert to DataFrame ---\n",
    "df = pd.DataFrame({\n",
    "    'time_s': stream['time']['data'],\n",
    "    'heart_rate': stream['heartrate']['data'],\n",
    "})\n",
    "\n",
    "# Optional: convert seconds to minutes\n",
    "df['time_min'] = df['time_s'] / 60\n",
    "\n",
    "# --- Plot ---\n",
    "plt.figure(figsize=(10, 5))\n",
    "plt.plot(df['time_min'], df['heart_rate'], linewidth=1.5)\n",
    "plt.title(f'Heart Rate Stream for Activity {activity_id}')\n",
    "plt.xlabel('Time (minutes)')\n",
    "plt.ylabel('Heart Rate (bpm)')\n",
    "plt.grid(True)\n",
    "plt.tight_layout()\n",
    "plt.show()"
   ]
  },
  {
   "cell_type": "markdown",
   "id": "2bcb992f",
   "metadata": {},
   "source": [
    "## Comments"
   ]
  },
  {
   "cell_type": "code",
   "execution_count": null,
   "id": "9db37f82",
   "metadata": {},
   "outputs": [],
   "source": [
    "comment_url = f'https://www.strava.com/api/v3/activities/{activity_id}/comments'\n",
    "r = requests.get(comment_url, headers=headers, timeout=10)\n",
    "r.raise_for_status()\n",
    "comments = r.json()\n",
    "comments"
   ]
  },
  {
   "cell_type": "markdown",
   "id": "f583efa0",
   "metadata": {},
   "source": [
    "## Kudos"
   ]
  },
  {
   "cell_type": "code",
   "execution_count": null,
   "id": "e4272919",
   "metadata": {},
   "outputs": [],
   "source": [
    "kudos_url = f'https://www.strava.com/api/v3/activities/{activity_id}/kudos'\n",
    "r = requests.get(kudos_url, headers=headers, timeout=10)\n",
    "r.raise_for_status()\n",
    "kudos = r.json()\n",
    "kudos"
   ]
  },
  {
   "cell_type": "markdown",
   "id": "ab04ced4",
   "metadata": {},
   "source": [
    "## Laps"
   ]
  },
  {
   "cell_type": "code",
   "execution_count": null,
   "id": "fb14a78a",
   "metadata": {},
   "outputs": [],
   "source": [
    "laps_url = f'https://www.strava.com/api/v3/activities/{activity_id}/laps'\n",
    "r = requests.get(laps_url, headers=headers, timeout=10)\n",
    "r.raise_for_status()\n",
    "laps = r.json()\n",
    "laps"
   ]
  },
  {
   "cell_type": "markdown",
   "id": "fc8c9139",
   "metadata": {},
   "source": [
    "## Zones"
   ]
  },
  {
   "cell_type": "code",
   "execution_count": null,
   "id": "c2ed323c",
   "metadata": {},
   "outputs": [],
   "source": [
    "zones_url = f'https://www.strava.com/api/v3/activities/{activity_id}/zones'\n",
    "r = requests.get(zones_url, headers=headers, timeout=10)\n",
    "r.raise_for_status()\n",
    "zones = r.json()\n",
    "zones"
   ]
  }
 ],
 "metadata": {
  "kernelspec": {
   "display_name": ".venv",
   "language": "python",
   "name": "python3"
  },
  "language_info": {
   "codemirror_mode": {
    "name": "ipython",
    "version": 3
   },
   "file_extension": ".py",
   "mimetype": "text/x-python",
   "name": "python",
   "nbconvert_exporter": "python",
   "pygments_lexer": "ipython3",
   "version": "3.12.9"
  }
 },
 "nbformat": 4,
 "nbformat_minor": 5
}

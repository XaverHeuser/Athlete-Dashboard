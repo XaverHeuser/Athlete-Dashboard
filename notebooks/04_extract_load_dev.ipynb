{
 "cells": [
  {
   "cell_type": "code",
   "execution_count": 1,
   "id": "01d11eba",
   "metadata": {},
   "outputs": [],
   "source": [
    "import os\n",
    "import sys\n",
    "\n",
    "from google.cloud import bigquery\n",
    "import pandas as pd\n",
    "\n",
    "sys.path.append(os.path.abspath(os.path.join(os.getcwd(), '..')))\n",
    "\n",
    "from src.config.settings import BIGQUERY_DATASET, BIGQUERY_RAW_TABLE, GCP_PROJECT_ID"
   ]
  },
  {
   "cell_type": "markdown",
   "id": "c97c492a",
   "metadata": {},
   "source": [
    "# Load data"
   ]
  },
  {
   "cell_type": "markdown",
   "id": "161a68b6",
   "metadata": {},
   "source": [
    "## Load with old method"
   ]
  },
  {
   "cell_type": "code",
   "execution_count": 2,
   "id": "0d8a04f9",
   "metadata": {},
   "outputs": [
    {
     "name": "stdout",
     "output_type": "stream",
     "text": [
      "athlete-dashboard-467718.strava_data.strava_activities_raw\n"
     ]
    }
   ],
   "source": [
    "CREDENTIALS_PATH = '../credentials/sa-athlete-dashboard.json'\n",
    "TABLE_ID = f'{GCP_PROJECT_ID}.{BIGQUERY_DATASET}.{BIGQUERY_RAW_TABLE}'\n",
    "print(TABLE_ID)\n",
    "\n",
    "client = bigquery.Client.from_service_account_json(\n",
    "    CREDENTIALS_PATH, project='athlete-dashboard-467718'\n",
    ")"
   ]
  },
  {
   "cell_type": "code",
   "execution_count": null,
   "id": "92b4a5c1",
   "metadata": {},
   "outputs": [
    {
     "name": "stdout",
     "output_type": "stream",
     "text": [
      "Tabelle gefunden: athlete-dashboard-467718.strava_data.strava_activities_raw\n",
      "Spalten: ['resource_state', 'name', 'distance', 'moving_time', 'elapsed_time', 'total_elevation_gain', 'type', 'sport_type', 'workout_type', 'id', 'start_date', 'start_date_local', 'timezone', 'utc_offset', 'location_city', 'location_state', 'location_country', 'achievement_count', 'kudos_count', 'comment_count', 'athlete_count', 'photo_count', 'trainer', 'commute', 'manual', 'private', 'visibility', 'flagged', 'gear_id', 'start_latlng', 'end_latlng', 'average_speed', 'max_speed', 'average_cadence', 'average_temp', 'average_watts', 'max_watts', 'weighted_average_watts', 'device_watts', 'kilojoules', 'has_heartrate', 'average_heartrate', 'max_heartrate', 'heartrate_opt_out', 'display_hide_heartrate_option', 'elev_high', 'elev_low', 'upload_id', 'upload_id_str', 'external_id', 'from_accepted_tag', 'pr_count', 'total_photo_count', 'has_kudoed', 'athlete_id', 'athlete_resource_state', 'map_id', 'map_summary_polyline', 'map_resource_state']\n",
      "Zeilen: 282\n",
      "🔹 Starte Abfrage: SELECT * FROM `athlete-dashboard-467718.strava_data.strava_activities_raw`\n"
     ]
    },
    {
     "name": "stderr",
     "output_type": "stream",
     "text": [
      "c:\\Users\\xaver\\Projekte\\Athlete-Dashboard\\.venv\\Lib\\site-packages\\google\\cloud\\bigquery\\table.py:1994: UserWarning: BigQuery Storage module not found, fetch data with the REST endpoint instead.\n",
      "  warnings.warn(\n"
     ]
    },
    {
     "name": "stdout",
     "output_type": "stream",
     "text": [
      "✅ Abfrage abgeschlossen, erste Zeilen:\n"
     ]
    }
   ],
   "source": [
    "table = client.get_table(TABLE_ID)\n",
    "print(f'Tabelle gefunden: {TABLE_ID}')\n",
    "print(f'Spalten: {[schema.name for schema in table.schema]}')\n",
    "print(f'Zeilen: {table.num_rows}')\n",
    "\n",
    "# --- 5. Kleine Abfrage, um Daten zu testen ---\n",
    "query = f'SELECT * FROM `{TABLE_ID}`'\n",
    "print('🔹 Starte Abfrage:', query)\n",
    "\n",
    "job = client.query(query)\n",
    "df = job.result().to_dataframe()  # Ergebnisse in Pandas DataFrame\n",
    "\n",
    "print('✅ Abfrage abgeschlossen')"
   ]
  },
  {
   "cell_type": "markdown",
   "id": "d2bca1e3",
   "metadata": {},
   "source": [
    "## Load with loader"
   ]
  },
  {
   "cell_type": "code",
   "execution_count": 11,
   "id": "09efd78f",
   "metadata": {},
   "outputs": [
    {
     "ename": "ImportError",
     "evalue": "cannot import name 'load_strava_configs' from 'src.config.settings' (c:\\Users\\xaver\\Projekte\\Athlete-Dashboard\\src\\config\\settings.py)",
     "output_type": "error",
     "traceback": [
      "\u001b[31m---------------------------------------------------------------------------\u001b[39m",
      "\u001b[31mImportError\u001b[39m                               Traceback (most recent call last)",
      "\u001b[36mCell\u001b[39m\u001b[36m \u001b[39m\u001b[32mIn[11]\u001b[39m\u001b[32m, line 1\u001b[39m\n\u001b[32m----> \u001b[39m\u001b[32m1\u001b[39m \u001b[38;5;28;01mfrom\u001b[39;00m\u001b[38;5;250m \u001b[39m\u001b[34;01msrc\u001b[39;00m\u001b[34;01m.\u001b[39;00m\u001b[34;01mconfig\u001b[39;00m\u001b[34;01m.\u001b[39;00m\u001b[34;01msettings\u001b[39;00m\u001b[38;5;250m \u001b[39m\u001b[38;5;28;01mimport\u001b[39;00m load_strava_configs\n\u001b[32m      4\u001b[39m CLIENT_ID, CLIENT_SECRET, REFRESH_TOKEN = load_strava_configs(\u001b[33m'\u001b[39m\u001b[33mlocal\u001b[39m\u001b[33m'\u001b[39m)\n",
      "\u001b[31mImportError\u001b[39m: cannot import name 'load_strava_configs' from 'src.config.settings' (c:\\Users\\xaver\\Projekte\\Athlete-Dashboard\\src\\config\\settings.py)"
     ]
    }
   ],
   "source": [
    "from src.config.settings import load_strava_configs\n",
    "\n",
    "\n",
    "CLIENT_ID, CLIENT_SECRET, REFRESH_TOKEN = load_strava_configs('local')"
   ]
  },
  {
   "cell_type": "code",
   "execution_count": 7,
   "id": "811fd6e3",
   "metadata": {},
   "outputs": [
    {
     "name": "stdout",
     "output_type": "stream",
     "text": [
      "Refreshing Strava access token...\n",
      "Successfully refreshed access token.\n",
      "Start fetching all activities.\n",
      "All activities fetched. Found 283 activities.\n"
     ]
    }
   ],
   "source": [
    "# TODO: Implement loading with loader\n",
    "from src.elt.extractors.strava import StravaExtractor, get_fresh_access_token\n",
    "\n",
    "access_token = get_fresh_access_token(CLIENT_ID, CLIENT_SECRET, REFRESH_TOKEN)\n",
    "\n",
    "\n",
    "extractor = StravaExtractor(access_token)\n",
    "all_activities = extractor.fetch_all_activities()"
   ]
  },
  {
   "cell_type": "code",
   "execution_count": 8,
   "id": "9d69e45f",
   "metadata": {},
   "outputs": [
    {
     "data": {
      "text/html": [
       "<div>\n",
       "<style scoped>\n",
       "    .dataframe tbody tr th:only-of-type {\n",
       "        vertical-align: middle;\n",
       "    }\n",
       "\n",
       "    .dataframe tbody tr th {\n",
       "        vertical-align: top;\n",
       "    }\n",
       "\n",
       "    .dataframe thead th {\n",
       "        text-align: right;\n",
       "    }\n",
       "</style>\n",
       "<table border=\"1\" class=\"dataframe\">\n",
       "  <thead>\n",
       "    <tr style=\"text-align: right;\">\n",
       "      <th></th>\n",
       "      <th>resource_state</th>\n",
       "      <th>name</th>\n",
       "      <th>distance</th>\n",
       "      <th>moving_time</th>\n",
       "      <th>elapsed_time</th>\n",
       "      <th>total_elevation_gain</th>\n",
       "      <th>type</th>\n",
       "      <th>sport_type</th>\n",
       "      <th>workout_type</th>\n",
       "      <th>id</th>\n",
       "      <th>...</th>\n",
       "      <th>external_id</th>\n",
       "      <th>from_accepted_tag</th>\n",
       "      <th>pr_count</th>\n",
       "      <th>total_photo_count</th>\n",
       "      <th>has_kudoed</th>\n",
       "      <th>athlete.id</th>\n",
       "      <th>athlete.resource_state</th>\n",
       "      <th>map.id</th>\n",
       "      <th>map.summary_polyline</th>\n",
       "      <th>map.resource_state</th>\n",
       "    </tr>\n",
       "  </thead>\n",
       "  <tbody>\n",
       "    <tr>\n",
       "      <th>0</th>\n",
       "      <td>2</td>\n",
       "      <td>Easy Run</td>\n",
       "      <td>10095.0</td>\n",
       "      <td>3507</td>\n",
       "      <td>3507</td>\n",
       "      <td>83.0</td>\n",
       "      <td>Run</td>\n",
       "      <td>Run</td>\n",
       "      <td>NaN</td>\n",
       "      <td>16171198076</td>\n",
       "      <td>...</td>\n",
       "      <td>garmin_ping_491922155245</td>\n",
       "      <td>False</td>\n",
       "      <td>0</td>\n",
       "      <td>0</td>\n",
       "      <td>False</td>\n",
       "      <td>133094316</td>\n",
       "      <td>1</td>\n",
       "      <td>a16171198076</td>\n",
       "      <td>qeluHwo|j@DbC?|@DlCEn@If@BZCf@?j@SbDKx@Qz@c@xA...</td>\n",
       "      <td>2</td>\n",
       "    </tr>\n",
       "    <tr>\n",
       "      <th>1</th>\n",
       "      <td>2</td>\n",
       "      <td>Cool Down</td>\n",
       "      <td>3184.9</td>\n",
       "      <td>1049</td>\n",
       "      <td>1092</td>\n",
       "      <td>57.0</td>\n",
       "      <td>Run</td>\n",
       "      <td>Run</td>\n",
       "      <td>NaN</td>\n",
       "      <td>16157747972</td>\n",
       "      <td>...</td>\n",
       "      <td>garmin_ping_491481976946</td>\n",
       "      <td>False</td>\n",
       "      <td>0</td>\n",
       "      <td>0</td>\n",
       "      <td>False</td>\n",
       "      <td>133094316</td>\n",
       "      <td>1</td>\n",
       "      <td>a16157747972</td>\n",
       "      <td>wcjuHmdbk@s@^e@L}DbBiA\\IHQXA@?EWFYTe@Lw@XoAj@o...</td>\n",
       "      <td>2</td>\n",
       "    </tr>\n",
       "    <tr>\n",
       "      <th>2</th>\n",
       "      <td>2</td>\n",
       "      <td>Intervals</td>\n",
       "      <td>9231.1</td>\n",
       "      <td>2519</td>\n",
       "      <td>2524</td>\n",
       "      <td>1.0</td>\n",
       "      <td>Run</td>\n",
       "      <td>Run</td>\n",
       "      <td>NaN</td>\n",
       "      <td>16157747867</td>\n",
       "      <td>...</td>\n",
       "      <td>garmin_ping_491481965492</td>\n",
       "      <td>False</td>\n",
       "      <td>1</td>\n",
       "      <td>0</td>\n",
       "      <td>False</td>\n",
       "      <td>133094316</td>\n",
       "      <td>1</td>\n",
       "      <td>a16157747867</td>\n",
       "      <td>s~iuHq|ak@ZMLQFOHm@?g@Ia@QYOKWE{@L}AJOFOJQVGTC...</td>\n",
       "      <td>2</td>\n",
       "    </tr>\n",
       "    <tr>\n",
       "      <th>3</th>\n",
       "      <td>2</td>\n",
       "      <td>Warm Up</td>\n",
       "      <td>3193.5</td>\n",
       "      <td>950</td>\n",
       "      <td>988</td>\n",
       "      <td>22.0</td>\n",
       "      <td>Run</td>\n",
       "      <td>Run</td>\n",
       "      <td>NaN</td>\n",
       "      <td>16157747870</td>\n",
       "      <td>...</td>\n",
       "      <td>garmin_ping_491481939650</td>\n",
       "      <td>False</td>\n",
       "      <td>0</td>\n",
       "      <td>0</td>\n",
       "      <td>False</td>\n",
       "      <td>133094316</td>\n",
       "      <td>1</td>\n",
       "      <td>a16157747870</td>\n",
       "      <td>kcluHiq}j@Xk@L_@LSlAwCH}AW}BIoBW_DM{@KmAUiB_@_...</td>\n",
       "      <td>2</td>\n",
       "    </tr>\n",
       "    <tr>\n",
       "      <th>4</th>\n",
       "      <td>2</td>\n",
       "      <td>Threshold Run</td>\n",
       "      <td>11675.6</td>\n",
       "      <td>3211</td>\n",
       "      <td>3214</td>\n",
       "      <td>91.0</td>\n",
       "      <td>Run</td>\n",
       "      <td>Run</td>\n",
       "      <td>NaN</td>\n",
       "      <td>16135627093</td>\n",
       "      <td>...</td>\n",
       "      <td>garmin_ping_490767249442</td>\n",
       "      <td>False</td>\n",
       "      <td>0</td>\n",
       "      <td>0</td>\n",
       "      <td>False</td>\n",
       "      <td>133094316</td>\n",
       "      <td>1</td>\n",
       "      <td>a16135627093</td>\n",
       "      <td>seluHan|j@L|C?lADd@KjAExAMx@GbBIbAOjA_@|@c@vAS...</td>\n",
       "      <td>2</td>\n",
       "    </tr>\n",
       "  </tbody>\n",
       "</table>\n",
       "<p>5 rows × 59 columns</p>\n",
       "</div>"
      ],
      "text/plain": [
       "   resource_state           name  distance  moving_time  elapsed_time  \\\n",
       "0               2       Easy Run   10095.0         3507          3507   \n",
       "1               2      Cool Down    3184.9         1049          1092   \n",
       "2               2      Intervals    9231.1         2519          2524   \n",
       "3               2        Warm Up    3193.5          950           988   \n",
       "4               2  Threshold Run   11675.6         3211          3214   \n",
       "\n",
       "   total_elevation_gain type sport_type  workout_type           id  ...  \\\n",
       "0                  83.0  Run        Run           NaN  16171198076  ...   \n",
       "1                  57.0  Run        Run           NaN  16157747972  ...   \n",
       "2                   1.0  Run        Run           NaN  16157747867  ...   \n",
       "3                  22.0  Run        Run           NaN  16157747870  ...   \n",
       "4                  91.0  Run        Run           NaN  16135627093  ...   \n",
       "\n",
       "                external_id from_accepted_tag pr_count  total_photo_count  \\\n",
       "0  garmin_ping_491922155245             False        0                  0   \n",
       "1  garmin_ping_491481976946             False        0                  0   \n",
       "2  garmin_ping_491481965492             False        1                  0   \n",
       "3  garmin_ping_491481939650             False        0                  0   \n",
       "4  garmin_ping_490767249442             False        0                  0   \n",
       "\n",
       "  has_kudoed athlete.id athlete.resource_state        map.id  \\\n",
       "0      False  133094316                      1  a16171198076   \n",
       "1      False  133094316                      1  a16157747972   \n",
       "2      False  133094316                      1  a16157747867   \n",
       "3      False  133094316                      1  a16157747870   \n",
       "4      False  133094316                      1  a16135627093   \n",
       "\n",
       "                                map.summary_polyline  map.resource_state  \n",
       "0  qeluHwo|j@DbC?|@DlCEn@If@BZCf@?j@SbDKx@Qz@c@xA...                   2  \n",
       "1  wcjuHmdbk@s@^e@L}DbBiA\\IHQXA@?EWFYTe@Lw@XoAj@o...                   2  \n",
       "2  s~iuHq|ak@ZMLQFOHm@?g@Ia@QYOKWE{@L}AJOFOJQVGTC...                   2  \n",
       "3  kcluHiq}j@Xk@L_@LSlAwCH}AW}BIoBW_DM{@KmAUiB_@_...                   2  \n",
       "4  seluHan|j@L|C?lADd@KjAExAMx@GbBIbAOjA_@|@c@vAS...                   2  \n",
       "\n",
       "[5 rows x 59 columns]"
      ]
     },
     "execution_count": 8,
     "metadata": {},
     "output_type": "execute_result"
    }
   ],
   "source": [
    "df_all_activities_raw = pd.json_normalize(all_activities)\n",
    "df_all_activities_raw.head()"
   ]
  },
  {
   "cell_type": "code",
   "execution_count": 9,
   "id": "70a3f6ff",
   "metadata": {},
   "outputs": [],
   "source": [
    "import re\n",
    "\n",
    "# Data Cleaning for bigquery\n",
    "df_all_activities = df_all_activities_raw.copy()\n",
    "\n",
    "# Replace all invalid characters with underscores\n",
    "df_all_activities.columns = [\n",
    "    re.sub(r'[^a-zA-Z0-9_]', '_', col) for col in df_all_activities.columns\n",
    "]"
   ]
  },
  {
   "cell_type": "code",
   "execution_count": null,
   "id": "87e5a3da",
   "metadata": {},
   "outputs": [],
   "source": []
  },
  {
   "cell_type": "markdown",
   "id": "1e9c2fe0",
   "metadata": {},
   "source": [
    "# Clean data"
   ]
  },
  {
   "cell_type": "code",
   "execution_count": null,
   "id": "0d309355",
   "metadata": {},
   "outputs": [],
   "source": [
    "df.head()"
   ]
  },
  {
   "cell_type": "markdown",
   "id": "034b8e15",
   "metadata": {},
   "source": []
  },
  {
   "cell_type": "code",
   "execution_count": null,
   "id": "1a43b126",
   "metadata": {},
   "outputs": [],
   "source": []
  },
  {
   "cell_type": "code",
   "execution_count": null,
   "id": "db24058c",
   "metadata": {},
   "outputs": [],
   "source": []
  },
  {
   "cell_type": "markdown",
   "id": "bd7c9c01",
   "metadata": {},
   "source": [
    "# Data loading"
   ]
  },
  {
   "cell_type": "code",
   "execution_count": null,
   "id": "df874035",
   "metadata": {},
   "outputs": [],
   "source": [
    "# TODO: Implement writing into  new bigquery table\n",
    "# Use table strava_activities_cleaned "
   ]
  },
  {
   "cell_type": "code",
   "execution_count": null,
   "id": "31e72e58",
   "metadata": {},
   "outputs": [],
   "source": []
  }
 ],
 "metadata": {
  "kernelspec": {
   "display_name": ".venv",
   "language": "python",
   "name": "python3"
  },
  "language_info": {
   "codemirror_mode": {
    "name": "ipython",
    "version": 3
   },
   "file_extension": ".py",
   "mimetype": "text/x-python",
   "name": "python",
   "nbconvert_exporter": "python",
   "pygments_lexer": "ipython3",
   "version": "3.12.9"
  }
 },
 "nbformat": 4,
 "nbformat_minor": 5
}

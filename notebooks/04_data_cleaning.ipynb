{
 "cells": [
  {
   "cell_type": "code",
   "execution_count": null,
   "id": "01d11eba",
   "metadata": {},
   "outputs": [],
   "source": [
    "import os\n",
    "import sys\n",
    "\n",
    "from google.cloud import bigquery\n",
    "import pandas as pd\n",
    "\n",
    "sys.path.append(os.path.abspath(os.path.join(os.getcwd(), '..')))\n",
    "\n",
    "from src.config.settings import BIGQUERY_DATASET, BIGQUERY_RAW_TABLE, GCP_PROJECT_ID"
   ]
  },
  {
   "cell_type": "markdown",
   "id": "c97c492a",
   "metadata": {},
   "source": [
    "# Load data"
   ]
  },
  {
   "cell_type": "markdown",
   "id": "161a68b6",
   "metadata": {},
   "source": [
    "## Load with old method"
   ]
  },
  {
   "cell_type": "code",
   "execution_count": null,
   "id": "0d8a04f9",
   "metadata": {},
   "outputs": [],
   "source": [
    "CREDENTIALS_PATH = '../credentials/sa-athlete-dashboard.json'\n",
    "TABLE_ID = f'{GCP_PROJECT_ID}.{BIGQUERY_DATASET}.{BIGQUERY_RAW_TABLE}'\n",
    "print(TABLE_ID)\n",
    "\n",
    "client = bigquery.Client.from_service_account_json(\n",
    "    CREDENTIALS_PATH, project='athlete-dashboard-467718'\n",
    ")"
   ]
  },
  {
   "cell_type": "code",
   "execution_count": null,
   "id": "92b4a5c1",
   "metadata": {},
   "outputs": [],
   "source": [
    "table = client.get_table(TABLE_ID)\n",
    "print(f'Tabelle gefunden: {TABLE_ID}')\n",
    "print(f'Spalten: {[schema.name for schema in table.schema]}')\n",
    "print(f'Zeilen: {table.num_rows}')\n",
    "\n",
    "# --- 5. Kleine Abfrage, um Daten zu testen ---\n",
    "query = f'SELECT * FROM `{TABLE_ID}`'\n",
    "print('🔹 Starte Abfrage:', query)\n",
    "\n",
    "job = client.query(query)\n",
    "df = job.result().to_dataframe()  # Ergebnisse in Pandas DataFrame\n",
    "\n",
    "print('✅ Abfrage abgeschlossen, erste Zeilen:')"
   ]
  },
  {
   "cell_type": "markdown",
   "id": "d2bca1e3",
   "metadata": {},
   "source": [
    "## Load with loader"
   ]
  },
  {
   "cell_type": "code",
   "execution_count": null,
   "id": "811fd6e3",
   "metadata": {},
   "outputs": [],
   "source": [
    "# TODO: Implement loading with loader"
   ]
  },
  {
   "cell_type": "markdown",
   "id": "1e9c2fe0",
   "metadata": {},
   "source": [
    "# Clean data"
   ]
  },
  {
   "cell_type": "code",
   "execution_count": null,
   "id": "0d309355",
   "metadata": {},
   "outputs": [],
   "source": [
    "df.head()"
   ]
  },
  {
   "cell_type": "markdown",
   "id": "034b8e15",
   "metadata": {},
   "source": []
  },
  {
   "cell_type": "code",
   "execution_count": null,
   "id": "1a43b126",
   "metadata": {},
   "outputs": [],
   "source": []
  },
  {
   "cell_type": "code",
   "execution_count": null,
   "id": "db24058c",
   "metadata": {},
   "outputs": [],
   "source": []
  },
  {
   "cell_type": "markdown",
   "id": "bd7c9c01",
   "metadata": {},
   "source": [
    "# Data loading"
   ]
  },
  {
   "cell_type": "code",
   "execution_count": null,
   "id": "df874035",
   "metadata": {},
   "outputs": [],
   "source": [
    "# TODO: Implement writing into  new bigquery table\n",
    "# Use table strava_activities_cleaned "
   ]
  },
  {
   "cell_type": "code",
   "execution_count": null,
   "id": "31e72e58",
   "metadata": {},
   "outputs": [],
   "source": []
  }
 ],
 "metadata": {
  "kernelspec": {
   "display_name": ".venv",
   "language": "python",
   "name": "python3"
  },
  "language_info": {
   "codemirror_mode": {
    "name": "ipython",
    "version": 3
   },
   "file_extension": ".py",
   "mimetype": "text/x-python",
   "name": "python",
   "nbconvert_exporter": "python",
   "pygments_lexer": "ipython3",
   "version": "3.12.9"
  }
 },
 "nbformat": 4,
 "nbformat_minor": 5
}

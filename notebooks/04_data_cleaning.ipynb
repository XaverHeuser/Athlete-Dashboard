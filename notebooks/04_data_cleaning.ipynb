{
 "cells": [
  {
   "cell_type": "code",
   "execution_count": 1,
   "id": "01d11eba",
   "metadata": {},
   "outputs": [],
   "source": [
    "import os\n",
    "import sys\n",
    "\n",
    "from google.cloud import bigquery\n",
    "import pandas as pd\n",
    "\n",
    "sys.path.append(os.path.abspath(os.path.join(os.getcwd(), '..')))\n",
    "\n",
    "from src.config.settings import BIGQUERY_DATASET, BIGQUERY_RAW_TABLE, GCP_PROJECT_ID"
   ]
  },
  {
   "cell_type": "markdown",
   "id": "c97c492a",
   "metadata": {},
   "source": [
    "# Load data"
   ]
  },
  {
   "cell_type": "markdown",
   "id": "161a68b6",
   "metadata": {},
   "source": [
    "## Load with old method"
   ]
  },
  {
   "cell_type": "code",
   "execution_count": 2,
   "id": "0d8a04f9",
   "metadata": {},
   "outputs": [
    {
     "name": "stdout",
     "output_type": "stream",
     "text": [
      "athlete-dashboard-467718.strava_data.strava_activities_raw\n"
     ]
    }
   ],
   "source": [
    "CREDENTIALS_PATH = '../credentials/sa-athlete-dashboard.json'\n",
    "TABLE_ID = f'{GCP_PROJECT_ID}.{BIGQUERY_DATASET}.{BIGQUERY_RAW_TABLE}'\n",
    "print(TABLE_ID)\n",
    "\n",
    "client = bigquery.Client.from_service_account_json(\n",
    "    CREDENTIALS_PATH, project='athlete-dashboard-467718'\n",
    ")"
   ]
  },
  {
   "cell_type": "code",
   "execution_count": 5,
   "id": "92b4a5c1",
   "metadata": {},
   "outputs": [
    {
     "name": "stdout",
     "output_type": "stream",
     "text": [
      "Tabelle gefunden: athlete-dashboard-467718.strava_data.strava_activities_raw\n",
      "Spalten: ['resource_state', 'name', 'distance', 'moving_time', 'elapsed_time', 'total_elevation_gain', 'type', 'sport_type', 'workout_type', 'id', 'start_date', 'start_date_local', 'timezone', 'utc_offset', 'location_city', 'location_state', 'location_country', 'achievement_count', 'kudos_count', 'comment_count', 'athlete_count', 'photo_count', 'trainer', 'commute', 'manual', 'private', 'visibility', 'flagged', 'gear_id', 'start_latlng', 'end_latlng', 'average_speed', 'max_speed', 'average_cadence', 'average_temp', 'average_watts', 'max_watts', 'weighted_average_watts', 'device_watts', 'kilojoules', 'has_heartrate', 'average_heartrate', 'max_heartrate', 'heartrate_opt_out', 'display_hide_heartrate_option', 'elev_high', 'elev_low', 'upload_id', 'upload_id_str', 'external_id', 'from_accepted_tag', 'pr_count', 'total_photo_count', 'has_kudoed', 'athlete_id', 'athlete_resource_state', 'map_id', 'map_summary_polyline', 'map_resource_state']\n",
      "Zeilen: 282\n",
      "🔹 Starte Abfrage: SELECT * FROM `athlete-dashboard-467718.strava_data.strava_activities_raw`\n"
     ]
    },
    {
     "name": "stderr",
     "output_type": "stream",
     "text": [
      "c:\\Users\\xaver\\Projekte\\Athlete-Dashboard\\.venv\\Lib\\site-packages\\google\\cloud\\bigquery\\table.py:1994: UserWarning: BigQuery Storage module not found, fetch data with the REST endpoint instead.\n",
      "  warnings.warn(\n"
     ]
    },
    {
     "name": "stdout",
     "output_type": "stream",
     "text": [
      "✅ Abfrage abgeschlossen, erste Zeilen:\n"
     ]
    }
   ],
   "source": [
    "table = client.get_table(TABLE_ID)\n",
    "print(f'Tabelle gefunden: {TABLE_ID}')\n",
    "print(f'Spalten: {[schema.name for schema in table.schema]}')\n",
    "print(f'Zeilen: {table.num_rows}')\n",
    "\n",
    "# --- 5. Kleine Abfrage, um Daten zu testen ---\n",
    "query = f'SELECT * FROM `{TABLE_ID}`'\n",
    "print('🔹 Starte Abfrage:', query)\n",
    "\n",
    "job = client.query(query)\n",
    "df = job.result().to_dataframe()  # Ergebnisse in Pandas DataFrame\n",
    "\n",
    "print('✅ Abfrage abgeschlossen, erste Zeilen:')"
   ]
  },
  {
   "cell_type": "markdown",
   "id": "d2bca1e3",
   "metadata": {},
   "source": [
    "## Load with loader"
   ]
  },
  {
   "cell_type": "code",
   "execution_count": null,
   "id": "811fd6e3",
   "metadata": {},
   "outputs": [],
   "source": [
    "# TODO: Implement loading with loader"
   ]
  },
  {
   "cell_type": "markdown",
   "id": "1e9c2fe0",
   "metadata": {},
   "source": [
    "# Clean data"
   ]
  },
  {
   "cell_type": "code",
   "execution_count": 4,
   "id": "0d309355",
   "metadata": {},
   "outputs": [
    {
     "data": {
      "text/html": [
       "<div>\n",
       "<style scoped>\n",
       "    .dataframe tbody tr th:only-of-type {\n",
       "        vertical-align: middle;\n",
       "    }\n",
       "\n",
       "    .dataframe tbody tr th {\n",
       "        vertical-align: top;\n",
       "    }\n",
       "\n",
       "    .dataframe thead th {\n",
       "        text-align: right;\n",
       "    }\n",
       "</style>\n",
       "<table border=\"1\" class=\"dataframe\">\n",
       "  <thead>\n",
       "    <tr style=\"text-align: right;\">\n",
       "      <th></th>\n",
       "      <th>resource_state</th>\n",
       "      <th>name</th>\n",
       "      <th>distance</th>\n",
       "      <th>moving_time</th>\n",
       "      <th>elapsed_time</th>\n",
       "      <th>total_elevation_gain</th>\n",
       "      <th>type</th>\n",
       "      <th>sport_type</th>\n",
       "      <th>workout_type</th>\n",
       "      <th>id</th>\n",
       "      <th>...</th>\n",
       "      <th>external_id</th>\n",
       "      <th>from_accepted_tag</th>\n",
       "      <th>pr_count</th>\n",
       "      <th>total_photo_count</th>\n",
       "      <th>has_kudoed</th>\n",
       "      <th>athlete_id</th>\n",
       "      <th>athlete_resource_state</th>\n",
       "      <th>map_id</th>\n",
       "      <th>map_summary_polyline</th>\n",
       "      <th>map_resource_state</th>\n",
       "    </tr>\n",
       "  </thead>\n",
       "  <tbody>\n",
       "    <tr>\n",
       "      <th>0</th>\n",
       "      <td>2</td>\n",
       "      <td>Easy Full-Body Workout</td>\n",
       "      <td>0.0</td>\n",
       "      <td>1500</td>\n",
       "      <td>1500</td>\n",
       "      <td>0.0</td>\n",
       "      <td>WeightTraining</td>\n",
       "      <td>WeightTraining</td>\n",
       "      <td>30.0</td>\n",
       "      <td>16134853760</td>\n",
       "      <td>...</td>\n",
       "      <td>None</td>\n",
       "      <td>False</td>\n",
       "      <td>0</td>\n",
       "      <td>0</td>\n",
       "      <td>False</td>\n",
       "      <td>133094316</td>\n",
       "      <td>1</td>\n",
       "      <td>a16134853760</td>\n",
       "      <td></td>\n",
       "      <td>2</td>\n",
       "    </tr>\n",
       "    <tr>\n",
       "      <th>1</th>\n",
       "      <td>2</td>\n",
       "      <td>Easy Full-Body Workout</td>\n",
       "      <td>0.0</td>\n",
       "      <td>1680</td>\n",
       "      <td>1680</td>\n",
       "      <td>0.0</td>\n",
       "      <td>WeightTraining</td>\n",
       "      <td>WeightTraining</td>\n",
       "      <td>30.0</td>\n",
       "      <td>16010323661</td>\n",
       "      <td>...</td>\n",
       "      <td>None</td>\n",
       "      <td>False</td>\n",
       "      <td>0</td>\n",
       "      <td>0</td>\n",
       "      <td>False</td>\n",
       "      <td>133094316</td>\n",
       "      <td>1</td>\n",
       "      <td>a16010323661</td>\n",
       "      <td></td>\n",
       "      <td>2</td>\n",
       "    </tr>\n",
       "    <tr>\n",
       "      <th>2</th>\n",
       "      <td>2</td>\n",
       "      <td>Upper-Body Workout</td>\n",
       "      <td>0.0</td>\n",
       "      <td>2160</td>\n",
       "      <td>2160</td>\n",
       "      <td>0.0</td>\n",
       "      <td>WeightTraining</td>\n",
       "      <td>WeightTraining</td>\n",
       "      <td>30.0</td>\n",
       "      <td>15906196359</td>\n",
       "      <td>...</td>\n",
       "      <td>None</td>\n",
       "      <td>False</td>\n",
       "      <td>0</td>\n",
       "      <td>0</td>\n",
       "      <td>False</td>\n",
       "      <td>133094316</td>\n",
       "      <td>1</td>\n",
       "      <td>a15906196359</td>\n",
       "      <td></td>\n",
       "      <td>2</td>\n",
       "    </tr>\n",
       "    <tr>\n",
       "      <th>3</th>\n",
       "      <td>2</td>\n",
       "      <td>Full-Body Workout</td>\n",
       "      <td>0.0</td>\n",
       "      <td>1680</td>\n",
       "      <td>1680</td>\n",
       "      <td>0.0</td>\n",
       "      <td>WeightTraining</td>\n",
       "      <td>WeightTraining</td>\n",
       "      <td>30.0</td>\n",
       "      <td>15878405194</td>\n",
       "      <td>...</td>\n",
       "      <td>None</td>\n",
       "      <td>False</td>\n",
       "      <td>0</td>\n",
       "      <td>0</td>\n",
       "      <td>False</td>\n",
       "      <td>133094316</td>\n",
       "      <td>1</td>\n",
       "      <td>a15878405194</td>\n",
       "      <td></td>\n",
       "      <td>2</td>\n",
       "    </tr>\n",
       "    <tr>\n",
       "      <th>4</th>\n",
       "      <td>2</td>\n",
       "      <td>Upper-Body Workout</td>\n",
       "      <td>0.0</td>\n",
       "      <td>1800</td>\n",
       "      <td>1800</td>\n",
       "      <td>0.0</td>\n",
       "      <td>Workout</td>\n",
       "      <td>WeightTraining</td>\n",
       "      <td>NaN</td>\n",
       "      <td>15776247661</td>\n",
       "      <td>...</td>\n",
       "      <td>None</td>\n",
       "      <td>False</td>\n",
       "      <td>0</td>\n",
       "      <td>0</td>\n",
       "      <td>False</td>\n",
       "      <td>133094316</td>\n",
       "      <td>1</td>\n",
       "      <td>a15776247661</td>\n",
       "      <td></td>\n",
       "      <td>2</td>\n",
       "    </tr>\n",
       "  </tbody>\n",
       "</table>\n",
       "<p>5 rows × 59 columns</p>\n",
       "</div>"
      ],
      "text/plain": [
       "   resource_state                    name  distance  moving_time  \\\n",
       "0               2  Easy Full-Body Workout       0.0         1500   \n",
       "1               2  Easy Full-Body Workout       0.0         1680   \n",
       "2               2      Upper-Body Workout       0.0         2160   \n",
       "3               2       Full-Body Workout       0.0         1680   \n",
       "4               2      Upper-Body Workout       0.0         1800   \n",
       "\n",
       "   elapsed_time  total_elevation_gain            type      sport_type  \\\n",
       "0          1500                   0.0  WeightTraining  WeightTraining   \n",
       "1          1680                   0.0  WeightTraining  WeightTraining   \n",
       "2          2160                   0.0  WeightTraining  WeightTraining   \n",
       "3          1680                   0.0  WeightTraining  WeightTraining   \n",
       "4          1800                   0.0         Workout  WeightTraining   \n",
       "\n",
       "   workout_type           id  ... external_id from_accepted_tag pr_count  \\\n",
       "0          30.0  16134853760  ...        None             False        0   \n",
       "1          30.0  16010323661  ...        None             False        0   \n",
       "2          30.0  15906196359  ...        None             False        0   \n",
       "3          30.0  15878405194  ...        None             False        0   \n",
       "4           NaN  15776247661  ...        None             False        0   \n",
       "\n",
       "   total_photo_count  has_kudoed  athlete_id  athlete_resource_state  \\\n",
       "0                  0       False   133094316                       1   \n",
       "1                  0       False   133094316                       1   \n",
       "2                  0       False   133094316                       1   \n",
       "3                  0       False   133094316                       1   \n",
       "4                  0       False   133094316                       1   \n",
       "\n",
       "         map_id  map_summary_polyline  map_resource_state  \n",
       "0  a16134853760                                         2  \n",
       "1  a16010323661                                         2  \n",
       "2  a15906196359                                         2  \n",
       "3  a15878405194                                         2  \n",
       "4  a15776247661                                         2  \n",
       "\n",
       "[5 rows x 59 columns]"
      ]
     },
     "execution_count": 4,
     "metadata": {},
     "output_type": "execute_result"
    }
   ],
   "source": [
    "df.head()"
   ]
  },
  {
   "cell_type": "code",
   "execution_count": null,
   "id": "db24058c",
   "metadata": {},
   "outputs": [],
   "source": []
  },
  {
   "cell_type": "markdown",
   "id": "bd7c9c01",
   "metadata": {},
   "source": [
    "# Data loading"
   ]
  },
  {
   "cell_type": "code",
   "execution_count": null,
   "id": "df874035",
   "metadata": {},
   "outputs": [],
   "source": [
    "# TODO: Implement writing into  new bigquery table\n",
    "# Use table strava_activities_cleaned "
   ]
  },
  {
   "cell_type": "code",
   "execution_count": null,
   "id": "31e72e58",
   "metadata": {},
   "outputs": [],
   "source": []
  }
 ],
 "metadata": {
  "kernelspec": {
   "display_name": ".venv",
   "language": "python",
   "name": "python3"
  },
  "language_info": {
   "codemirror_mode": {
    "name": "ipython",
    "version": 3
   },
   "file_extension": ".py",
   "mimetype": "text/x-python",
   "name": "python",
   "nbconvert_exporter": "python",
   "pygments_lexer": "ipython3",
   "version": "3.12.9"
  }
 },
 "nbformat": 4,
 "nbformat_minor": 5
}

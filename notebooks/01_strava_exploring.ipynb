{
 "cells": [
  {
   "cell_type": "code",
   "execution_count": 1,
   "id": "61a9c998",
   "metadata": {},
   "outputs": [],
   "source": [
    "import os\n",
    "import sys\n",
    "\n",
    "from dotenv import load_dotenv\n",
    "import pandas as pd\n",
    "import requests\n",
    "\n",
    "sys.path.append(os.path.abspath(os.path.join(os.getcwd(), '..')))"
   ]
  },
  {
   "cell_type": "code",
   "execution_count": 2,
   "id": "534e269e",
   "metadata": {},
   "outputs": [],
   "source": [
    "load_dotenv()\n",
    "\n",
    "CLIENT_ID = os.getenv('CLIENT_ID')\n",
    "CLIENT_SECRET = os.getenv('CLIENT_SECRET')\n",
    "REFRESH_TOKEN = os.getenv('REFRESH_TOKEN')"
   ]
  },
  {
   "cell_type": "code",
   "execution_count": 9,
   "id": "458a5ae1",
   "metadata": {},
   "outputs": [
    {
     "name": "stdout",
     "output_type": "stream",
     "text": [
      "NOTEBOOK IS USING: 137549\n"
     ]
    }
   ],
   "source": [
    "# In your NOTEBOOK\n",
    "import os\n",
    "\n",
    "from dotenv import load_dotenv\n",
    "\n",
    "load_dotenv()\n",
    "print(f'NOTEBOOK IS USING: {os.environ.get(\"CLIENT_ID\")}')  # Add this line"
   ]
  },
  {
   "cell_type": "code",
   "execution_count": 10,
   "id": "61aa96da",
   "metadata": {},
   "outputs": [
    {
     "name": "stdout",
     "output_type": "stream",
     "text": [
      "cloud\n",
      "137549 1184ee4b53c17a4caec26f1fe6b1f0169d1136a4 c7b0516c8801fde1965ea36e40428b81941ba448\n",
      "Refreshing Strava access token...\n",
      "Successfully refreshed access token.\n"
     ]
    }
   ],
   "source": [
    "from src.ingestion.auth.strava_auth import get_access_token\n",
    "from src.ingestion.extractors.strava_exctractor import StravaEndpoints\n",
    "\n",
    "activities_url = StravaEndpoints.get_activities()\n",
    "access_token = get_access_token('cloud')\n",
    "\n",
    "header = {'Authorization': f'Bearer {access_token}'}"
   ]
  },
  {
   "cell_type": "code",
   "execution_count": 11,
   "id": "7609d914",
   "metadata": {},
   "outputs": [
    {
     "data": {
      "text/plain": [
       "'0569b7e048dfac808c1eb3e364fb09ba16556e83'"
      ]
     },
     "execution_count": 11,
     "metadata": {},
     "output_type": "execute_result"
    }
   ],
   "source": [
    "access_token"
   ]
  },
  {
   "cell_type": "code",
   "execution_count": 7,
   "id": "a10ed110",
   "metadata": {},
   "outputs": [],
   "source": [
    "request_page_num = 1\n",
    "all_activities: list[str] = []\n",
    "\n",
    "while True:\n",
    "    param = {'per_page': 200, 'page': request_page_num}\n",
    "    my_dataset = requests.get(activities_url, headers=header, params=param).json()\n",
    "\n",
    "    if len(my_dataset) == 0:\n",
    "        break\n",
    "\n",
    "    if all_activities:\n",
    "        all_activities.extend(my_dataset)\n",
    "\n",
    "    else:\n",
    "        all_activities = my_dataset\n",
    "\n",
    "    request_page_num += 1"
   ]
  },
  {
   "cell_type": "code",
   "execution_count": null,
   "id": "79b72975",
   "metadata": {},
   "outputs": [],
   "source": [
    "from src.ingestion.extractors.strava_exctractor import StravaExtractor\n",
    "\n",
    "extractor = StravaExtractor(access_token)\n",
    "all_activities_new = extractor.fetch_all_activities()\n",
    "all_activities_new"
   ]
  },
  {
   "cell_type": "code",
   "execution_count": null,
   "id": "4982b501",
   "metadata": {},
   "outputs": [],
   "source": [
    "len(all_activities)"
   ]
  },
  {
   "cell_type": "code",
   "execution_count": null,
   "id": "2d7d0984",
   "metadata": {},
   "outputs": [],
   "source": [
    "df_all_activities = pd.json_normalize(all_activities)\n",
    "df_all_activities.head()"
   ]
  },
  {
   "cell_type": "markdown",
   "id": "e14dcd46",
   "metadata": {},
   "source": [
    "# Exploring columns"
   ]
  },
  {
   "cell_type": "code",
   "execution_count": null,
   "id": "a26eef10",
   "metadata": {},
   "outputs": [],
   "source": [
    "df_all_activities.columns"
   ]
  },
  {
   "cell_type": "code",
   "execution_count": null,
   "id": "a299a8ae",
   "metadata": {},
   "outputs": [],
   "source": [
    "df_all_activities.dtypes"
   ]
  },
  {
   "cell_type": "code",
   "execution_count": null,
   "id": "fda23cc1",
   "metadata": {},
   "outputs": [],
   "source": [
    "with pd.option_context('display.max_columns', None):\n",
    "    display(df_all_activities.head())"
   ]
  },
  {
   "cell_type": "code",
   "execution_count": null,
   "id": "525c73d4",
   "metadata": {},
   "outputs": [],
   "source": [
    "df_all_activities.has_kudoed.unique()"
   ]
  },
  {
   "cell_type": "markdown",
   "id": "1b3cfbb4",
   "metadata": {},
   "source": [
    "## Filter out unimportant columns"
   ]
  },
  {
   "cell_type": "code",
   "execution_count": null,
   "id": "6d8271ca",
   "metadata": {},
   "outputs": [],
   "source": [
    "unimportant_columns = [\n",
    "    'resource_state',\n",
    "    'location_city',\n",
    "    'location_state',\n",
    "    'location_country',\n",
    "    'commute',\n",
    "    'flagged',\n",
    "    'start_latlng',\n",
    "    'end_latlng',\n",
    "    'heartrate_opt_out',\n",
    "    'external_id',\n",
    "    'upload_id',\n",
    "    'upload_id_str',\n",
    "    'from_accepted_tag',\n",
    "    'has_kudoed',\n",
    "    'athlete_resource_state',\n",
    "    'map_resource_state',\n",
    "]"
   ]
  },
  {
   "cell_type": "code",
   "execution_count": null,
   "id": "a3bd6ecc",
   "metadata": {},
   "outputs": [],
   "source": [
    "df_trunc = df_all_activities.drop(columns=unimportant_columns, errors='ignore')\n",
    "df_trunc"
   ]
  },
  {
   "cell_type": "code",
   "execution_count": null,
   "id": "47ce3530",
   "metadata": {},
   "outputs": [],
   "source": []
  }
 ],
 "metadata": {
  "kernelspec": {
   "display_name": ".venv",
   "language": "python",
   "name": "python3"
  },
  "language_info": {
   "codemirror_mode": {
    "name": "ipython",
    "version": 3
   },
   "file_extension": ".py",
   "mimetype": "text/x-python",
   "name": "python",
   "nbconvert_exporter": "python",
   "pygments_lexer": "ipython3",
   "version": "3.12.9"
  }
 },
 "nbformat": 4,
 "nbformat_minor": 5
}

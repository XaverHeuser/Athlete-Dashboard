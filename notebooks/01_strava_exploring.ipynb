{
 "cells": [
  {
   "cell_type": "code",
   "execution_count": null,
   "id": "b599bb04",
   "metadata": {},
   "outputs": [],
   "source": [
    "import os\n",
    "import sys\n",
    "\n",
    "from dotenv import load_dotenv\n",
    "import requests\n",
    "\n",
    "sys.path.append(os.path.abspath(os.path.join(os.getcwd(), '..')))\n",
    "\n",
    "from src.etl.extractors.strava import (\n",
    "    StravaEndpoints,\n",
    "    StravaExtractor,\n",
    "    get_fresh_access_token,\n",
    ")"
   ]
  },
  {
   "cell_type": "code",
   "execution_count": null,
   "id": "42164060",
   "metadata": {},
   "outputs": [],
   "source": [
    "load_dotenv()\n",
    "\n",
    "CLIENT_ID = os.getenv('CLIENT_ID')\n",
    "CLIENT_SECRET = os.getenv('CLIENT_SECRET')\n",
    "REFRESH_TOKEN = os.getenv('REFRESH_TOKEN')"
   ]
  },
  {
   "cell_type": "code",
   "execution_count": null,
   "id": "bf983de0",
   "metadata": {},
   "outputs": [],
   "source": [
    "activities_url = StravaEndpoints.get_activities()\n",
    "access_token = get_fresh_access_token(CLIENT_ID, CLIENT_SECRET, REFRESH_TOKEN)\n",
    "\n",
    "header = {'Authorization': f'Bearer {access_token}'}"
   ]
  },
  {
   "cell_type": "code",
   "execution_count": null,
   "id": "19414773",
   "metadata": {},
   "outputs": [],
   "source": [
    "request_page_num = 1\n",
    "all_activities: list[str] = []\n",
    "\n",
    "while True:\n",
    "    param = {'per_page': 200, 'page': request_page_num}\n",
    "    my_dataset = requests.get(activities_url, headers=header, params=param).json()\n",
    "\n",
    "    if len(my_dataset) == 0:\n",
    "        break\n",
    "\n",
    "    if all_activities:\n",
    "        all_activities.extend(my_dataset)\n",
    "\n",
    "    else:\n",
    "        all_activities = my_dataset\n",
    "\n",
    "    request_page_num += 1"
   ]
  },
  {
   "cell_type": "code",
   "execution_count": null,
   "id": "a02826ef",
   "metadata": {},
   "outputs": [],
   "source": [
    "extractor = StravaExtractor(access_token)\n",
    "all_activities_new = extractor.fetch_all_activities()\n",
    "all_activities_new"
   ]
  },
  {
   "cell_type": "code",
   "execution_count": null,
   "id": "05159fad",
   "metadata": {},
   "outputs": [],
   "source": [
    "len(all_activities)"
   ]
  },
  {
   "cell_type": "code",
   "execution_count": null,
   "id": "8ec21c08",
   "metadata": {},
   "outputs": [],
   "source": [
    "all_activities[0]"
   ]
  }
 ],
 "metadata": {
  "kernelspec": {
   "display_name": ".venv",
   "language": "python",
   "name": "python3"
  },
  "language_info": {
   "codemirror_mode": {
    "name": "ipython",
    "version": 3
   },
   "file_extension": ".py",
   "mimetype": "text/x-python",
   "name": "python",
   "nbconvert_exporter": "python",
   "pygments_lexer": "ipython3",
   "version": "3.12.9"
  }
 },
 "nbformat": 4,
 "nbformat_minor": 5
}

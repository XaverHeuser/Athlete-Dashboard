{
 "cells": [
  {
   "cell_type": "code",
   "execution_count": null,
   "id": "61a9c998",
   "metadata": {},
   "outputs": [],
   "source": [
    "import os\n",
    "import sys\n",
    "\n",
    "from dotenv import load_dotenv\n",
    "import pandas as pd\n",
    "import requests\n",
    "\n",
    "sys.path.append(os.path.abspath(os.path.join(os.getcwd(), '..')))\n",
    "\n",
    "from src.etl.extractors.strava import (\n",
    "    StravaEndpoints,\n",
    "    StravaExtractor,\n",
    "    get_fresh_access_token,\n",
    ")"
   ]
  },
  {
   "cell_type": "code",
   "execution_count": null,
   "id": "534e269e",
   "metadata": {},
   "outputs": [],
   "source": [
    "load_dotenv()\n",
    "\n",
    "CLIENT_ID = os.getenv('CLIENT_ID')\n",
    "CLIENT_SECRET = os.getenv('CLIENT_SECRET')\n",
    "REFRESH_TOKEN = os.getenv('REFRESH_TOKEN')"
   ]
  },
  {
   "cell_type": "code",
   "execution_count": null,
   "id": "61aa96da",
   "metadata": {},
   "outputs": [],
   "source": [
    "activities_url = StravaEndpoints.get_activities()\n",
    "access_token = get_fresh_access_token(CLIENT_ID, CLIENT_SECRET, REFRESH_TOKEN)\n",
    "\n",
    "header = {'Authorization': f'Bearer {access_token}'}"
   ]
  },
  {
   "cell_type": "code",
   "execution_count": null,
   "id": "a10ed110",
   "metadata": {},
   "outputs": [],
   "source": [
    "request_page_num = 1\n",
    "all_activities: list[str] = []\n",
    "\n",
    "while True:\n",
    "    param = {'per_page': 200, 'page': request_page_num}\n",
    "    my_dataset = requests.get(activities_url, headers=header, params=param).json()\n",
    "\n",
    "    if len(my_dataset) == 0:\n",
    "        break\n",
    "\n",
    "    if all_activities:\n",
    "        all_activities.extend(my_dataset)\n",
    "\n",
    "    else:\n",
    "        all_activities = my_dataset\n",
    "\n",
    "    request_page_num += 1"
   ]
  },
  {
   "cell_type": "code",
   "execution_count": null,
   "id": "79b72975",
   "metadata": {},
   "outputs": [],
   "source": [
    "extractor = StravaExtractor(access_token)\n",
    "all_activities_new = extractor.fetch_all_activities()\n",
    "all_activities_new"
   ]
  },
  {
   "cell_type": "code",
   "execution_count": null,
   "id": "4982b501",
   "metadata": {},
   "outputs": [],
   "source": [
    "len(all_activities)"
   ]
  },
  {
   "cell_type": "code",
   "execution_count": null,
   "id": "2d7d0984",
   "metadata": {},
   "outputs": [],
   "source": [
    "df_all_activities = pd.json_normalize(all_activities)\n",
    "df_all_activities.head()"
   ]
  },
  {
   "cell_type": "markdown",
   "id": "e14dcd46",
   "metadata": {},
   "source": [
    "# Exploring columns"
   ]
  },
  {
   "cell_type": "code",
   "execution_count": null,
   "id": "a26eef10",
   "metadata": {},
   "outputs": [],
   "source": [
    "df_all_activities.columns"
   ]
  },
  {
   "cell_type": "code",
   "execution_count": null,
   "id": "a299a8ae",
   "metadata": {},
   "outputs": [],
   "source": [
    "df_all_activities.dtypes"
   ]
  },
  {
   "cell_type": "code",
   "execution_count": null,
   "id": "fda23cc1",
   "metadata": {},
   "outputs": [],
   "source": [
    "with pd.option_context('display.max_columns', None):\n",
    "    display(df_all_activities.head())"
   ]
  },
  {
   "cell_type": "code",
   "execution_count": null,
   "id": "525c73d4",
   "metadata": {},
   "outputs": [],
   "source": [
    "df_all_activities.has_kudoed.unique()"
   ]
  },
  {
   "cell_type": "markdown",
   "id": "1b3cfbb4",
   "metadata": {},
   "source": [
    "## Filter out unimportant columns"
   ]
  },
  {
   "cell_type": "code",
   "execution_count": null,
   "id": "6d8271ca",
   "metadata": {},
   "outputs": [],
   "source": [
    "unimportant_columns = [\n",
    "    'resource_state',\n",
    "    'location_city',\n",
    "    'location_state',\n",
    "    'location_country',\n",
    "    'commute',\n",
    "    'flagged',\n",
    "    'start_latlng',\n",
    "    'end_latlng',\n",
    "    'heartrate_opt_out',\n",
    "    'external_id',\n",
    "    'upload_id',\n",
    "    'upload_id_str',\n",
    "    'from_accepted_tag',\n",
    "    'has_kudoed',\n",
    "    'athlete_resource_state',\n",
    "    'map_resource_state',\n",
    "]"
   ]
  },
  {
   "cell_type": "code",
   "execution_count": null,
   "id": "a3bd6ecc",
   "metadata": {},
   "outputs": [],
   "source": [
    "df_trunc = df_all_activities.drop(columns=unimportant_columns, errors='ignore')\n",
    "df_trunc"
   ]
  },
  {
   "cell_type": "code",
   "execution_count": null,
   "id": "47ce3530",
   "metadata": {},
   "outputs": [],
   "source": []
  }
 ],
 "metadata": {
  "kernelspec": {
   "display_name": ".venv",
   "language": "python",
   "name": "python3"
  },
  "language_info": {
   "codemirror_mode": {
    "name": "ipython",
    "version": 3
   },
   "file_extension": ".py",
   "mimetype": "text/x-python",
   "name": "python",
   "nbconvert_exporter": "python",
   "pygments_lexer": "ipython3",
   "version": "3.12.9"
  }
 },
 "nbformat": 4,
 "nbformat_minor": 5
}

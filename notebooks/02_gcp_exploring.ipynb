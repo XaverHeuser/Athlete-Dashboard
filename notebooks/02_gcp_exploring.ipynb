{
 "cells": [
  {
   "cell_type": "code",
   "execution_count": null,
   "id": "024ba342",
   "metadata": {},
   "outputs": [],
   "source": [
    "import os\n",
    "import re\n",
    "import sys\n",
    "\n",
    "from dotenv import load_dotenv\n",
    "from google.cloud import bigquery\n",
    "import pandas as pd\n",
    "\n",
    "sys.path.append(os.path.abspath(os.path.join(os.getcwd(), '..')))\n",
    "\n",
    "from src.config.settings import BIGQUERY_DATASET, BIGQUERY_RAW_TABLE, GCP_PROJECT_ID\n",
    "from src.etl.extractors.strava import (\n",
    "    StravaEndpoints,\n",
    "    StravaExtractor,\n",
    "    get_fresh_access_token,\n",
    ")"
   ]
  },
  {
   "cell_type": "markdown",
   "id": "36c5df72",
   "metadata": {},
   "source": [
    "# Get strava data"
   ]
  },
  {
   "cell_type": "code",
   "execution_count": null,
   "id": "a575a648",
   "metadata": {},
   "outputs": [],
   "source": [
    "load_dotenv()\n",
    "\n",
    "CLIENT_ID = os.getenv('CLIENT_ID')\n",
    "CLIENT_SECRET = os.getenv('CLIENT_SECRET')\n",
    "REFRESH_TOKEN = os.getenv('REFRESH_TOKEN')"
   ]
  },
  {
   "cell_type": "code",
   "execution_count": null,
   "id": "6e47f139",
   "metadata": {},
   "outputs": [],
   "source": [
    "activities_url = StravaEndpoints.get_activities()\n",
    "access_token = get_fresh_access_token(CLIENT_ID, CLIENT_SECRET, REFRESH_TOKEN)\n",
    "\n",
    "header = {'Authorization': f'Bearer {access_token}'}"
   ]
  },
  {
   "cell_type": "code",
   "execution_count": null,
   "id": "3c61c0e8",
   "metadata": {},
   "outputs": [],
   "source": [
    "extractor = StravaExtractor(access_token)\n",
    "all_activities = extractor.fetch_all_activities()\n",
    "all_activities"
   ]
  },
  {
   "cell_type": "code",
   "execution_count": null,
   "id": "9508bbf0",
   "metadata": {},
   "outputs": [],
   "source": [
    "df_all_activities_raw = pd.json_normalize(all_activities)\n",
    "df_all_activities_raw.head()"
   ]
  },
  {
   "cell_type": "code",
   "execution_count": null,
   "id": "fd71095f",
   "metadata": {},
   "outputs": [],
   "source": [
    "# Data Cleaning for bigquery\n",
    "df_all_activities = df_all_activities_raw.copy()\n",
    "\n",
    "# Replace all invalid characters with underscores\n",
    "df_all_activities.columns = [\n",
    "    re.sub(r'[^a-zA-Z0-9_]', '_', col) for col in df_all_activities.columns\n",
    "]"
   ]
  },
  {
   "cell_type": "markdown",
   "id": "ae73b690",
   "metadata": {},
   "source": [
    "# GCP Exploration"
   ]
  },
  {
   "cell_type": "code",
   "execution_count": null,
   "id": "6c524f60",
   "metadata": {},
   "outputs": [],
   "source": [
    "CREDENTIALS_PATH = '../credentials/sa-athlete-dashboard.json'\n",
    "TABLE_ID = f'{GCP_PROJECT_ID}.{BIGQUERY_DATASET}.{BIGQUERY_RAW_TABLE}'\n",
    "print(TABLE_ID)"
   ]
  },
  {
   "cell_type": "code",
   "execution_count": null,
   "id": "94bba7a0",
   "metadata": {},
   "outputs": [],
   "source": [
    "client = bigquery.Client.from_service_account_json(\n",
    "    CREDENTIALS_PATH, project='athlete-dashboard-467718'\n",
    ")"
   ]
  },
  {
   "cell_type": "markdown",
   "id": "06624067",
   "metadata": {},
   "source": [
    "## Upload data"
   ]
  },
  {
   "cell_type": "code",
   "execution_count": null,
   "id": "53231fc3",
   "metadata": {},
   "outputs": [],
   "source": [
    "job_config = bigquery.LoadJobConfig(\n",
    "    write_disposition='WRITE_TRUNCATE',\n",
    "    create_disposition='CREATE_IF_NEEDED',  # Auto-create if table doesn't exist\n",
    "    autodetect=True,  # <-- Schema inferred automatically\n",
    ")\n",
    "\n",
    "# job_config = bigquery.LoadJobConfig(write_disposition='WRITE_APPEND') # Avoid duplication if using this"
   ]
  },
  {
   "cell_type": "code",
   "execution_count": null,
   "id": "7c327f0e",
   "metadata": {},
   "outputs": [],
   "source": [
    "client.load_table_from_dataframe(\n",
    "    df_all_activities, TABLE_ID, job_config=job_config\n",
    ").result()"
   ]
  },
  {
   "cell_type": "code",
   "execution_count": null,
   "id": "c8027ba5",
   "metadata": {},
   "outputs": [],
   "source": [
    "table = client.get_table(TABLE_ID)\n",
    "table"
   ]
  },
  {
   "cell_type": "markdown",
   "id": "a39fc00a",
   "metadata": {},
   "source": [
    "## Read data"
   ]
  },
  {
   "cell_type": "code",
   "execution_count": null,
   "id": "02a2bbe4",
   "metadata": {},
   "outputs": [],
   "source": [
    "table = client.get_table(TABLE_ID)\n",
    "print(f'ℹ️ Tabelle gefunden: {TABLE_ID}')\n",
    "print(f'Spalten: {[schema.name for schema in table.schema]}')\n",
    "print(f'Zeilen: {table.num_rows}')\n",
    "\n",
    "# --- 5. Kleine Abfrage, um Daten zu testen ---\n",
    "query = f'SELECT * FROM `{TABLE_ID}`'\n",
    "print('🔹 Starte Abfrage:', query)\n",
    "\n",
    "job = client.query(query)\n",
    "df = job.result().to_dataframe()  # Ergebnisse in Pandas DataFrame\n",
    "\n",
    "print('✅ Abfrage abgeschlossen, erste Zeilen:')\n",
    "df"
   ]
  }
 ],
 "metadata": {
  "kernelspec": {
   "display_name": ".venv",
   "language": "python",
   "name": "python3"
  },
  "language_info": {
   "codemirror_mode": {
    "name": "ipython",
    "version": 3
   },
   "file_extension": ".py",
   "mimetype": "text/x-python",
   "name": "python",
   "nbconvert_exporter": "python",
   "pygments_lexer": "ipython3",
   "version": "3.12.9"
  }
 },
 "nbformat": 4,
 "nbformat_minor": 5
}

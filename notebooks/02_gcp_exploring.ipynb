{
 "cells": [
  {
   "cell_type": "code",
   "execution_count": null,
   "id": "024ba342",
   "metadata": {},
   "outputs": [],
   "source": [
    "import os\n",
    "import re\n",
    "import sys\n",
    "\n",
    "from dotenv import load_dotenv\n",
    "from google.cloud import bigquery\n",
    "import pandas as pd\n",
    "\n",
    "sys.path.append(os.path.abspath(os.path.join(os.getcwd(), '..')))\n",
    "\n",
    "from src.ingestion.auth import strava_auth\n",
    "from src.ingestion.extractors.strava_extractor import StravaExtractor\n",
    "from src.ingestion.loaders.bigquery_loader import BigQueryLoader"
   ]
  },
  {
   "cell_type": "markdown",
   "id": "36c5df72",
   "metadata": {},
   "source": [
    "# Get strava data"
   ]
  },
  {
   "cell_type": "code",
   "execution_count": null,
   "id": "a575a648",
   "metadata": {},
   "outputs": [],
   "source": [
    "load_dotenv()\n",
    "\n",
    "CLIENT_ID = os.getenv('CLIENT_ID')\n",
    "CLIENT_SECRET = os.getenv('CLIENT_SECRET')\n",
    "REFRESH_TOKEN = os.getenv('REFRESH_TOKEN')"
   ]
  },
  {
   "cell_type": "code",
   "execution_count": null,
   "id": "6e47f139",
   "metadata": {},
   "outputs": [],
   "source": [
    "access_token = strava_auth.get_access_token()\n",
    "\n",
    "extractor = StravaExtractor(access_token)\n",
    "all_activities_raw = extractor.fetch_all_activities()\n",
    "\n",
    "df_all_activities_raw = pd.json_normalize(all_activities_raw)\n",
    "df_all_activities_raw.head()"
   ]
  },
  {
   "cell_type": "code",
   "execution_count": null,
   "id": "fd71095f",
   "metadata": {},
   "outputs": [],
   "source": [
    "# Data Cleaning for bigquery\n",
    "df_all_activities = df_all_activities_raw.copy()\n",
    "\n",
    "# Replace all invalid characters with underscores\n",
    "df_all_activities.columns = [\n",
    "    re.sub(r'[^a-zA-Z0-9_]', '_', col) for col in df_all_activities.columns\n",
    "]\n",
    "\n",
    "df_all_activities.head()"
   ]
  },
  {
   "cell_type": "markdown",
   "id": "ae73b690",
   "metadata": {},
   "source": [
    "# GCP Exploration"
   ]
  },
  {
   "cell_type": "code",
   "execution_count": null,
   "id": "4236057f",
   "metadata": {},
   "outputs": [],
   "source": [
    "loader = BigQueryLoader()"
   ]
  },
  {
   "cell_type": "code",
   "execution_count": null,
   "id": "10adfdd4",
   "metadata": {},
   "outputs": [],
   "source": [
    "loader.load_data(data=df_all_activities)"
   ]
  },
  {
   "cell_type": "markdown",
   "id": "a39fc00a",
   "metadata": {},
   "source": [
    "## Read data"
   ]
  },
  {
   "cell_type": "code",
   "execution_count": null,
   "id": "4f122776",
   "metadata": {},
   "outputs": [],
   "source": [
    "GCP_PROJECT_ID = os.environ.get('GCP_PROJECT_ID')\n",
    "BIGQUERY_DATASET = os.environ.get('BIGQUERY_DATASET')\n",
    "BIGQUERY_TABLE_ACTIVITIES_RAW = os.environ.get('BIGQUERY_TABLE_ACTIVITIES_RAW')\n",
    "\n",
    "TABLE_ID = f'{GCP_PROJECT_ID}.{BIGQUERY_DATASET}.{BIGQUERY_TABLE_ACTIVITIES_RAW}'\n",
    "print(TABLE_ID)"
   ]
  },
  {
   "cell_type": "code",
   "execution_count": null,
   "id": "8a6e12ee",
   "metadata": {},
   "outputs": [],
   "source": [
    "CREDENTIALS_PATH = '../credentials/sa-athlete-dashboard.json'\n",
    "\n",
    "client = bigquery.Client.from_service_account_json(\n",
    "    CREDENTIALS_PATH, project=GCP_PROJECT_ID\n",
    ")"
   ]
  },
  {
   "cell_type": "code",
   "execution_count": null,
   "id": "02a2bbe4",
   "metadata": {},
   "outputs": [],
   "source": [
    "table = client.get_table(TABLE_ID)\n",
    "print(f'Tabelle gefunden: {TABLE_ID}')\n",
    "print(f'Spalten: {[schema.name for schema in table.schema]}')\n",
    "print(f'Zeilen: {table.num_rows}')\n",
    "\n",
    "# --- 5. Kleine Abfrage, um Daten zu testen ---\n",
    "query = f'SELECT * FROM `{TABLE_ID}`'\n",
    "print('🔹 Starte Abfrage:', query)\n",
    "\n",
    "job = client.query(query)\n",
    "df = job.result().to_dataframe()  # Ergebnisse in Pandas DataFrame\n",
    "\n",
    "print('✅ Abfrage abgeschlossen, erste Zeilen:')\n",
    "df"
   ]
  }
 ],
 "metadata": {
  "kernelspec": {
   "display_name": ".venv",
   "language": "python",
   "name": "python3"
  },
  "language_info": {
   "codemirror_mode": {
    "name": "ipython",
    "version": 3
   },
   "file_extension": ".py",
   "mimetype": "text/x-python",
   "name": "python",
   "nbconvert_exporter": "python",
   "pygments_lexer": "ipython3",
   "version": "3.12.9"
  }
 },
 "nbformat": 4,
 "nbformat_minor": 5
}

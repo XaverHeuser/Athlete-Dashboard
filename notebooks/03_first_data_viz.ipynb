{
 "cells": [
  {
   "cell_type": "code",
   "execution_count": null,
   "id": "e5bcca5d",
   "metadata": {},
   "outputs": [],
   "source": [
    "import os\n",
    "import sys\n",
    "\n",
    "import folium\n",
    "from google.cloud import bigquery\n",
    "import polyline\n",
    "\n",
    "sys.path.append(os.path.abspath(os.path.join(os.getcwd(), '..')))"
   ]
  },
  {
   "cell_type": "markdown",
   "id": "38b4d74d",
   "metadata": {},
   "source": [
    "# Get data from bigquery"
   ]
  },
  {
   "cell_type": "code",
   "execution_count": null,
   "id": "8605143d",
   "metadata": {},
   "outputs": [],
   "source": [
    "GCP_PROJECT_ID = os.environ.get('GCP_PROJECT_ID')\n",
    "BIGQUERY_DATASET = os.environ.get('BIGQUERY_DATASET')\n",
    "BIGQUERY_TABLE_ACTIVITIES_RAW = os.environ.get('BIGQUERY_TABLE_ACTIVITIES_RAW')\n",
    "\n",
    "TABLE_ID = f'{GCP_PROJECT_ID}.{BIGQUERY_DATASET}.{BIGQUERY_TABLE_ACTIVITIES_RAW}'\n",
    "print(TABLE_ID)"
   ]
  },
  {
   "cell_type": "code",
   "execution_count": null,
   "id": "7bfc71ce",
   "metadata": {},
   "outputs": [],
   "source": [
    "CREDENTIALS_PATH = '../credentials/sa-athlete-dashboard.json'\n",
    "\n",
    "client = bigquery.Client.from_service_account_json(\n",
    "    CREDENTIALS_PATH, project=GCP_PROJECT_ID\n",
    ")"
   ]
  },
  {
   "cell_type": "code",
   "execution_count": null,
   "id": "4e880770",
   "metadata": {},
   "outputs": [],
   "source": [
    "table = client.get_table(TABLE_ID)\n",
    "print(f'Tabelle gefunden: {TABLE_ID}')\n",
    "print(f'Spalten: {[schema.name for schema in table.schema]}')\n",
    "print(f'Zeilen: {table.num_rows}')\n",
    "\n",
    "query = f'SELECT * FROM `{TABLE_ID}`'\n",
    "print('🔹 Starte Abfrage:', query)\n",
    "\n",
    "job = client.query(query)\n",
    "df = job.result().to_dataframe()\n",
    "\n",
    "print('Abfrage abgeschlossen, erste Zeilen:')\n",
    "df"
   ]
  },
  {
   "cell_type": "code",
   "execution_count": null,
   "id": "18eb8809",
   "metadata": {},
   "outputs": [],
   "source": [
    "polyline_string = df.map_summary_polyline[10]\n",
    "polyline_string"
   ]
  },
  {
   "cell_type": "code",
   "execution_count": null,
   "id": "5d339786",
   "metadata": {},
   "outputs": [],
   "source": [
    "decoded_coords = polyline.decode(polyline_string)\n",
    "\n",
    "if decoded_coords:\n",
    "    center_point = decoded_coords[0]\n",
    "else:\n",
    "    print('Die Polyline ist leer. Es können keine Koordinaten dekodiert werden.')\n",
    "\n",
    "m = folium.Map(location=center_point, zoom_start=13)\n",
    "\n",
    "folium.PolyLine(locations=decoded_coords, color='blue', weight=5, opacity=0.8).add_to(m)\n",
    "\n",
    "folium.Marker(\n",
    "    location=decoded_coords[0], popup='Startpunkt', icon=folium.Icon(color='green')\n",
    ").add_to(m)\n",
    "folium.Marker(\n",
    "    location=decoded_coords[-1], popup='Endpunkt', icon=folium.Icon(color='red')\n",
    ").add_to(m)\n",
    "\n",
    "m"
   ]
  }
 ],
 "metadata": {
  "kernelspec": {
   "display_name": ".venv",
   "language": "python",
   "name": "python3"
  },
  "language_info": {
   "codemirror_mode": {
    "name": "ipython",
    "version": 3
   },
   "file_extension": ".py",
   "mimetype": "text/x-python",
   "name": "python",
   "nbconvert_exporter": "python",
   "pygments_lexer": "ipython3",
   "version": "3.12.9"
  }
 },
 "nbformat": 4,
 "nbformat_minor": 5
}

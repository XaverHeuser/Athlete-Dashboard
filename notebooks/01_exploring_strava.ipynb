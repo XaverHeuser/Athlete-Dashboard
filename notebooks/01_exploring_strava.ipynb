{
 "cells": [
  {
   "cell_type": "code",
   "execution_count": null,
   "id": "61a9c998",
   "metadata": {},
   "outputs": [],
   "source": [
    "import os\n",
    "import sys\n",
    "\n",
    "from dotenv import load_dotenv\n",
    "import requests\n",
    "\n",
    "sys.path.append(os.path.abspath(os.path.join(os.getcwd(), '..')))\n",
    "\n",
    "from src.etl.extractors.strava import (\n",
    "    StravaEndpoints,\n",
    "    StravaExtractor,\n",
    "    get_fresh_access_token,\n",
    ")"
   ]
  },
  {
   "cell_type": "code",
   "execution_count": null,
   "id": "534e269e",
   "metadata": {},
   "outputs": [],
   "source": [
    "load_dotenv()\n",
    "\n",
    "CLIENT_ID = os.getenv('CLIENT_ID')\n",
    "CLIENT_SECRET = os.getenv('CLIENT_SECRET')\n",
    "REFRESH_TOKEN = os.getenv('REFRESH_TOKEN')"
   ]
  },
  {
   "cell_type": "code",
   "execution_count": null,
   "id": "61aa96da",
   "metadata": {},
   "outputs": [],
   "source": [
    "activities_url = StravaEndpoints.get_activities()\n",
    "access_token = get_fresh_access_token(CLIENT_ID, CLIENT_SECRET, REFRESH_TOKEN)\n",
    "\n",
    "header = {'Authorization': f'Bearer {access_token}'}"
   ]
  },
  {
   "cell_type": "code",
   "execution_count": null,
   "id": "a10ed110",
   "metadata": {},
   "outputs": [],
   "source": [
    "request_page_num = 1\n",
    "all_activities: list[str] = []\n",
    "\n",
    "while True:\n",
    "    param = {'per_page': 200, 'page': request_page_num}\n",
    "    my_dataset = requests.get(activities_url, headers=header, params=param).json()\n",
    "\n",
    "    if len(my_dataset) == 0:\n",
    "        break\n",
    "\n",
    "    if all_activities:\n",
    "        all_activities.extend(my_dataset)\n",
    "\n",
    "    else:\n",
    "        all_activities = my_dataset\n",
    "\n",
    "    request_page_num += 1"
   ]
  },
  {
   "cell_type": "code",
   "execution_count": null,
   "id": "79b72975",
   "metadata": {},
   "outputs": [],
   "source": [
    "extractor = StravaExtractor(access_token)\n",
    "all_activities_new = extractor.fetch_all_activities()\n",
    "all_activities_new"
   ]
  },
  {
   "cell_type": "code",
   "execution_count": null,
   "id": "4982b501",
   "metadata": {},
   "outputs": [],
   "source": [
    "len(all_activities)"
   ]
  }
 ],
 "metadata": {
  "language_info": {
   "name": "python"
  }
 },
 "nbformat": 4,
 "nbformat_minor": 5
}
